{
 "cells": [
  {
   "cell_type": "code",
   "execution_count": 27,
   "metadata": {},
   "outputs": [],
   "source": [
    "from search import *\n",
    "from search import breadth_first_tree_search, depth_first_tree_search, depth_first_graph_search, breadth_first_graph_search,uniform_cost_search"
   ]
  },
  {
   "cell_type": "markdown",
   "metadata": {},
   "source": [
    "## PROBLEMA COMPLETO CON 2 ASCENSORES"
   ]
  },
  {
   "cell_type": "code",
   "execution_count": 28,
   "metadata": {},
   "outputs": [],
   "source": [
    "class Problem(object):\n",
    "\n",
    "    \"\"\"The abstract class for a formal problem. You should subclass\n",
    "    this and implement the methods actions and result, and possibly\n",
    "    __init__, goal_test, and path_cost. Then you will create instances\n",
    "    of your subclass and solve them with the various search functions.\"\"\"\n",
    "\n",
    "    def __init__(self, initial, goal=None):\n",
    "        \"\"\"The constructor specifies the initial state, and possibly a goal\n",
    "        state, if there is a unique goal. Your subclass's constructor can add\n",
    "        other arguments.\"\"\"\n",
    "        self.initial = initial\n",
    "        self.goal = goal\n",
    "\n",
    "    def actions(self, state):\n",
    "        \"\"\"Return the actions that can be executed in the given\n",
    "        state. The result would typically be a list, but if there are\n",
    "        many actions, consider yielding them one at a time in an\n",
    "        iterator, rather than building them all at once.\"\"\"\n",
    "        raise NotImplementedError\n",
    "\n",
    "    def result(self, state, action):\n",
    "        \"\"\"Return the state that results from executing the given\n",
    "        action in the given state. The action must be one of\n",
    "        self.actions(state).\"\"\"\n",
    "        raise NotImplementedError\n",
    "        \n",
    "    def _is_valid(self, s):\n",
    "        '''Determina si un estado es valido o no.'''\n",
    "        # un estado es valido si no hay mas canibales que misioneros en ninguna\n",
    "        # orilla, y si las cantidades estan entre 0 y 3\n",
    "        return True\n",
    "\n",
    "\n",
    "\n",
    "    def goal_test(self, state):\n",
    "        \"\"\"Return True if the state is a goal. The default method compares the\n",
    "        state to self.goal or checks for state in self.goal if it is a\n",
    "        list, as specified in the constructor. Override this method if\n",
    "        checking against a single self.goal is not enough.\"\"\"\n",
    "        \n",
    "        for i in range(len(state[0])):\n",
    "            if self.goal[i] != state[0][i]:\n",
    "                return False \n",
    "        return True\n",
    "        #if isinstance(self.goal, list):\n",
    "         #   return is_in(state, self.goal)\n",
    "        #else:\n",
    "         #   return state[0] == self.goal\n",
    "\n",
    "    def path_cost(self, c, state1, action, state2):\n",
    "        \"\"\"Return the cost of a solution path that arrives at state2 from\n",
    "        state1 via action, assuming cost c to get up to state1. If the problem\n",
    "        is such that the path doesn't matter, this function will only look at\n",
    "        state2.  If the path does matter, it will consider c and maybe state1\n",
    "        and action. The default method costs 1 for every step in the path.\"\"\"\n",
    "        return c + 1\n",
    "\n",
    "    def value(self, state):\n",
    "        \"\"\"For optimization problems, each state has a value.  Hill-climbing\n",
    "        and related algorithms try to maximize this value.\"\"\"\n",
    "        raise NotImplementedError\n",
    "\n",
    "    def coste_de_aplicar_accion(self, estado, accion):\n",
    "        \"\"\"Hemos incluido está función que devuelve el coste de un único operador (aplicar accion a estado). Por defecto, este\n",
    "        coste es 1. Reimplementar si el problema define otro coste \"\"\" \n",
    "        return 1"
   ]
  },
  {
   "cell_type": "code",
   "execution_count": 29,
   "metadata": {},
   "outputs": [],
   "source": [
    "class Ascensores(Problem):\n",
    "   \n",
    "    def __init__(self, initial, goal=((3,5,3,5,1))):\n",
    "        \"\"\" Define goal state and initialize a problem \"\"\"\n",
    "        self.goal = goal\n",
    "        Problem.__init__(self, initial, goal)\n",
    "    \n",
    "    def actions(self,estado):\n",
    "        #operadores: subir, bajar, parar\n",
    "\n",
    "        ascensores_variable = estado[1][1]\n",
    "        ascensores_constante = estado[1][0]\n",
    "        \n",
    "        #inicializar lista posiciones de los ascensores\n",
    "        pos_ascensor= list()\n",
    "        for i in range(len(ascensores_variable)):\n",
    "            tupla = ascensores_variable[i]\n",
    "            pos_ascensor.append(ascensores_variable[i][1]) #recorremos las tuplas de los ascensores y seleccionamos para cada uno su planta\n",
    "\n",
    "        \n",
    "     #pasajeros por ascensor\n",
    "        pasajeros = list()\n",
    "        for i in range(len(ascensores_variable)):\n",
    "            pasajeros.append(ascensores_variable[i][0])\n",
    "        \n",
    "        \n",
    "        #lista de personas aun por recoger para cada ascensor\n",
    "        recoger = [ [] for i in range(len(ascensores_constante))]\n",
    "        for i in range(len(list(estado[0]))):\n",
    "            #comprobamos por cada ascensor(j)\n",
    "             for j in range(len(ascensores_constante)):\n",
    "                #ESTO ES UNA ÑAPA HAY QUE HACERLO BIEN\n",
    "                if i not in pasajeros[0] and i not in pasajeros[1] and estado[0][i] != self.goal[i]:\n",
    "                    #¿ if estado[0][i] < estado [1][0][0][3] ? Si la planta en la que estamos es < a la maxima del ascensor 0\n",
    "                     if estado[0][i] < ascensores_constante[j][3] and estado[0][i] > ascensores_constante[j][2]:  \n",
    "                        recoger[j].append(i)\n",
    "                     elif(estado[0][i] == ascensores_constante[j][2] ):\n",
    "                        if self.goal[i] > ascensores_constante[j][2]:\n",
    "                            recoger[j].append(i)\n",
    "                     elif(estado[0][i] == ascensores_constante[j][3] ):\n",
    "                        if self.goal[i] < ascensores_constante[j][3]:\n",
    "                            recoger[j].append(i)   \n",
    "        \n",
    "        #plantas destino de los pasajeros\n",
    "        plantas = list()\n",
    "        for i in range(len(pasajeros)):\n",
    "            for j in range(len(pasajeros[i])):\n",
    "                plantas.append(self.goal[pasajeros[i][j]])\n",
    "            \n",
    "    \n",
    "        \n",
    "        \n",
    "        \n",
    "        #lista de acciones\n",
    "        accs = list()\n",
    "        \n",
    "        for i in range(len(ascensores_constante)):   #Recorremos la lista de ascensores para ver que acciones pueden hacer.      \n",
    "            if pos_ascensor[i] < ascensores_constante[i][3]:\n",
    "                #accs[i].append(\"Subir ascensor \", i)\n",
    "                if(i == 0):\n",
    "                    accs.append(\"Subir 0\")\n",
    "                else:\n",
    "                    accs.append(\"Subir 1\")\n",
    "        \n",
    "            if pos_ascensor[i] > ascensores_constante[i][2]:\n",
    "                if(i == 0):\n",
    "                    accs.append(\"Bajar 0\")\n",
    "                else:\n",
    "                    accs.append(\"Bajar 1\")\n",
    "                 \n",
    "            #no necesitamos comprobar los pasajeros del ascensor porque se actualizan en cada nodo\n",
    "            #comprobamos ademas si hay alguien que recoger o si alguien ha llegaddo a su destino\n",
    "            \n",
    "            for j in range(len(recoger[i])):\n",
    "                if (pos_ascensor[i] == estado[0][recoger[i][j]] and len(ascensores_variable[i][0]) < ascensores_constante[i][1]) or (pos_ascensor[i] in plantas):\n",
    "                    if(i == 0):\n",
    "                        accs.append(\"Parar 0\")\n",
    "                    else:\n",
    "                        accs.append(\"Parar 1\")\n",
    "           \n",
    "        return accs  \n",
    "    \n",
    "    def result(self,estado,accion):\n",
    "\n",
    "        l = list(estado)\n",
    "        l[1] = list(l[1])\n",
    "        l[0] = list(l[0])\n",
    "        l[1][0] = list(l[1][0])\n",
    "        l[1][1] = list(l[1][1])\n",
    "        l[1][0][0] = list(l[1][0][0])\n",
    "        l[1][0][1] = list(l[1][0][1])\n",
    "        l[1][1][0] = list(l[1][1][0])\n",
    "        l[1][1][1] = list(l[1][1][1])\n",
    "        l[1][1][0][0] = list(l[1][1][0][0])\n",
    "        l[1][1][1][0] = list(l[1][1][1][0])\n",
    "\n",
    "        \n",
    "        \n",
    "        \n",
    "        asc1 = l[1][1][0]\n",
    "        asc2 = l[1][1][1]\n",
    "        plantas_pasaj = l[0]\n",
    "        asc_const1 = l[1][0][0]\n",
    "        asc_const2 = l[1][0][1]\n",
    "    \n",
    "       ### EJERCICIO 1.2. COMPLETA LA DEFINICIÓN DE LOS OPERADORES. \n",
    "        if accion == \"Subir 0\":\n",
    "            asc1[2] = 1                   #actualizamos el estado del ascensor\n",
    "            asc1[1] = asc1[1] + 1          #actualizamos la planta del ascensor\n",
    "            for i in asc1[0]:             #actualizamos, para cada pasajero del ascensor, su planta\n",
    "                plantas_pasaj[i] = asc1[1] \n",
    "         \n",
    "        if accion == \"Subir 1\":\n",
    "            asc2[2] = 1                   #actualizamos el estado del ascensor\n",
    "            asc2[1] = asc2[1] + 1          #actualizamos la planta del ascensor\n",
    "            for i in asc2[0]:             #actualizamos, para cada pasajero del ascensor, su planta\n",
    "                plantas_pasaj[i] = asc2[1] \n",
    "            \n",
    "            \n",
    "        if accion == \"Bajar 0\":\n",
    "            asc1[2] = -1                  #actualizamos el estado del ascensor\n",
    "            asc1[1] = asc1[1] - 1          #actualizamos la planta del ascensor\n",
    "            for i in asc1[0]:             #actualizamos, para cada pasajero del ascensor, su planta\n",
    "                plantas_pasaj[i] = asc1[1] \n",
    "           \n",
    "        \n",
    "        if accion == \"Bajar 1\":\n",
    "            asc2[2] = -1                  #actualizamos el estado del ascensor\n",
    "            asc2[1] = asc2[1] - 1          #actualizamos la planta del ascensor\n",
    "            for i in asc2[0]:             #actualizamos, para cada pasajero del ascensor, su planta\n",
    "                plantas_pasaj[i] = asc2[1]\n",
    "                \n",
    "                \n",
    "        if accion == \"Parar 0\":\n",
    "            asc1[0] = [x for x in asc1[0] if not (self.goal[x] == asc1[0])]  #bajamos del ascensor a los que han llegado a su planta\n",
    "            #lo mismo que a continuacion\n",
    "            #for e in ascensor[1]:                                                  \n",
    "                #if self.goal[0][e] == ascensor[0]:\n",
    "                    #del(ascensor[1][e])\n",
    "            if len(asc1[0]) < asc_const1[1]:                                   #subimos gente al ascensor si hay hueco\n",
    "                for i in range(len(plantas_pasaj)) :\n",
    "                    if (len(asc1[0]) < asc_const1[1]) and (self.goal[i] != estado[0][i]):     \n",
    "                        if (plantas_pasaj[i] == asc1[1]) and (i not in asc1[0]) :\n",
    "                            asc1[0].append(i)\n",
    "\n",
    "          \n",
    "        if accion == \"Parar 1\":\n",
    "            asc2[0] = [x for x in asc2[0] if not (self.goal[x] == asc2[0])]  #bajamos del ascensor a los que han llegado a su planta\n",
    "            #lo mismo que a continuacion\n",
    "            #for e in ascensor[1]:                                                  \n",
    "                #if self.goal[0][e] == ascensor[0]:\n",
    "                    #del(ascensor[1][e])\n",
    "            if len(asc2[0]) < asc_const2[1]:                                   #subimos gente al ascensor si hay hueco\n",
    "                for i in range(len(plantas_pasaj)) :\n",
    "                    if (len(asc2[0]) < asc_const2[1]) and (self.goal[i] != estado[0][i]):     \n",
    "                        if (plantas_pasaj[i] == asc2[1]) and (i not in asc2[0]) :\n",
    "                            asc2[0].append(i)\n",
    "\n",
    "        \n",
    "    \n",
    "        #tuplificamos\n",
    "        \n",
    "        l[1][1][0] = asc1\n",
    "        l[1][1][1] = asc2\n",
    "        l[0] = plantas_pasaj \n",
    "        l[1][0][0] = asc_const1 \n",
    "        l[1][0][1] = asc_const2                 \n",
    "\n",
    "\n",
    "        l[1][1][0][0] = tuple(l[1][1][0][0])\n",
    "        l[1][1][1][0] = tuple(l[1][1][1][0])\n",
    "        l[1][0][0] = tuple(l[1][0][0])\n",
    "        l[1][0][1] = tuple(l[1][0][1])\n",
    "        l[1][1][0] = tuple(l[1][1][0])\n",
    "        l[1][1][1] = tuple(l[1][1][1])\n",
    "        l[1][0] = tuple(l[1][0])\n",
    "        l[1][1] = tuple(l[1][1])\n",
    "        l[1] = tuple(l[1])\n",
    "        l[0] = tuple(l[0])\n",
    "       \n",
    "        return tuple(l)\n",
    "    \n",
    "    def h(self, node):\n",
    "        \" Return the heuristic value for a given state.\"\n",
    "        return "
   ]
  },
  {
   "cell_type": "code",
   "execution_count": 30,
   "metadata": {
    "scrolled": true
   },
   "outputs": [
    {
     "name": "stdout",
     "output_type": "stream",
     "text": [
      "((0, 5, 0, 5, 1), (((1, 2, 0, 4), (1, 2, 4, 8)), (((0,), 0, 0), ((3, 1), 5, 1))))\n"
     ]
    },
    {
     "data": {
      "text/plain": [
       "['Subir 0', 'Parar 0', 'Subir 1', 'Bajar 1']"
      ]
     },
     "execution_count": 30,
     "metadata": {},
     "output_type": "execute_result"
    }
   ],
   "source": [
    "asc = Ascensores(((0,5,0,5,1), (((1,2,0,4), (1,2,4,8)), (((0,),0,0),((3,1),5,1)))))\n",
    "\n",
    "asc.initial\n",
    "print(asc.initial)\n",
    "asc.actions(asc.initial)"
   ]
  },
  {
   "cell_type": "code",
   "execution_count": 31,
   "metadata": {},
   "outputs": [
    {
     "data": {
      "text/plain": [
       "((0, 5, 0, 5, 1),\n",
       " (((1, 2, 0, 4), (1, 2, 4, 8)), (((0,), 0, 0), ((3, 1), 5, 1))))"
      ]
     },
     "execution_count": 31,
     "metadata": {},
     "output_type": "execute_result"
    }
   ],
   "source": [
    "asc.result(asc.initial, \"Parar 1\")"
   ]
  },
  {
   "cell_type": "markdown",
   "metadata": {},
   "source": [
    "## ESPECIFICACION DE LOS ALGORITMOS"
   ]
  },
  {
   "cell_type": "code",
   "execution_count": 32,
   "metadata": {},
   "outputs": [],
   "source": [
    "class Problema_con_Analizados(Problem):\n",
    "\n",
    "    \"\"\"Es un problema que se comporta exactamente igual que el que recibe al\n",
    "       inicializarse, y además incorpora unos atributos nuevos para almacenar el\n",
    "       número de nodos analizados durante la búsqueda. De esta manera, no\n",
    "       tenemos que modificar el código del algoritmo de búsqueda.\"\"\" \n",
    "         \n",
    "    def __init__(self, problem):\n",
    "        self.initial = problem.initial\n",
    "        self.problem = problem\n",
    "        self.analizados  = 0\n",
    "        self.goal = problem.goal\n",
    "\n",
    "    def actions(self, estado):\n",
    "        return self.problem.actions(estado)\n",
    "\n",
    "    def result(self, estado, accion):\n",
    "        return self.problem.result(estado, accion)\n",
    "\n",
    "    def goal_test(self, estado):\n",
    "        self.analizados += 1\n",
    "        return self.problem.goal_test(estado)\n",
    "\n",
    "    def coste_de_aplicar_accion(self, estado, accion, index):\n",
    "        return self.problem.coste_de_aplicar_accion(estado,accion)\n",
    "    \n",
    "    def check_solvability(self, state):\n",
    "        \"\"\" Checks if the given state is solvable \"\"\"\n",
    "        #ALWAYS SOLVABLE :)\n",
    "        return 1   \n"
   ]
  },
  {
   "cell_type": "code",
   "execution_count": 62,
   "metadata": {},
   "outputs": [],
   "source": [
    "#heuristicas para el problema simplificado\n",
    "#primera heurística: personas que no estan en destino\n",
    "def h1(node):\n",
    "    state = node.state\n",
    "    goals = [3,3,3,0,2]\n",
    "    count = 0\n",
    "    for i in range(len(state[0])):\n",
    "        if (goals[i] != state[0][i]):\n",
    "            count = count + 1      \n",
    "    return count\n",
    "\n",
    "\n",
    "\n",
    "#segunda heurística: similar a la distancia M\n",
    "def h2(node):\n",
    "    state = node.state\n",
    "    goals = [3,3,3,0,2]\n",
    "    #goals = node.state.goal\n",
    "    count = 0\n",
    "    for i in range(len(state[0])):\n",
    "        count = count + abs(goals[i] - state[0][i])\n",
    "\n",
    "    return count\n",
    "\n",
    "\n",
    "\n",
    "#tercera heurística: distancia M + (personas fuera de destino/capacidad ascensor) * huecos ascensor\n",
    "def h3(node):\n",
    "    state = node.state\n",
    "    goals = [3,3,3,0,2]\n",
    "    no_destino = 0\n",
    "    count = 0\n",
    "    count1 = 0\n",
    "    count2 = 0\n",
    "    \n",
    "    for i in range(len(state[0])):\n",
    "        if (goals[i] != state[0][i]):\n",
    "            count = abs(goals[i] - state[0][i])\n",
    "            no_destino = no_destino + 1\n",
    "     \n",
    "    count1 += (no_destino/2)*(state[1][0][0][1]-len(state[1][1][0][0]))\n",
    "    count2 += (no_destino/2)*(state[1][0][1][1]-len(state[1][1][1][0]))\n",
    "    count += max(count1,count2)\n",
    "    return count\n",
    "\n",
    "\n",
    "\n"
   ]
  },
  {
   "cell_type": "code",
   "execution_count": 63,
   "metadata": {},
   "outputs": [],
   "source": [
    "def resuelve_ascensores(estado_inicial, algoritmo, h=None):\n",
    "\n",
    "    p8p=Problema_con_Analizados(Ascensores(estado_inicial))\n",
    "    if p8p.check_solvability(estado_inicial):\n",
    "        if h: \n",
    "            sol= algoritmo(p8p,h).solution()\n",
    "        else: \n",
    "            sol= algoritmo(p8p).solution()\n",
    "        print(\"Solución: {0}\".format(sol))\n",
    "        print(\"Algoritmo: {0}\".format(algoritmo.__name__))\n",
    "        if h: \n",
    "            print(\"Heurística: {0}\".format(h.__name__))\n",
    "        else:\n",
    "            pass\n",
    "        print(\"Longitud de la solución: {0}. Nodos analizados: {1}\".format(len(sol),p8p.analizados))\n",
    "    else: \n",
    "        print(\"Este problema no tiene solucion. \")\n",
    "\n",
    "\n"
   ]
  },
  {
   "cell_type": "code",
   "execution_count": 64,
   "metadata": {},
   "outputs": [
    {
     "data": {
      "text/plain": [
       "['Parar 0', 'Subir 0', 'Subir 0', 'Subir 0']"
      ]
     },
     "execution_count": 64,
     "metadata": {},
     "output_type": "execute_result"
    }
   ],
   "source": [
    "estado = Ascensores(((0,5,0,5,1), (((1,2,0,4), (1,2,4,8)), (((0,),0,0),((3,1),5,1)))))\n",
    "breadth_first_graph_search(estado).solution()\n",
    "\n",
    "#breadth_first_tree_search(estado).solution()\n",
    "#depth_first_tree_search(estado).solution()"
   ]
  },
  {
   "cell_type": "code",
   "execution_count": 36,
   "metadata": {},
   "outputs": [
    {
     "data": {
      "text/plain": [
       "['Parar 0', 'Subir 0', 'Subir 0', 'Subir 0']"
      ]
     },
     "execution_count": 36,
     "metadata": {},
     "output_type": "execute_result"
    }
   ],
   "source": [
    "uniform_cost_search(estado).solution()"
   ]
  },
  {
   "cell_type": "code",
   "execution_count": 37,
   "metadata": {},
   "outputs": [
    {
     "data": {
      "text/plain": [
       "['Bajar 1',\n",
       " 'Parar 0',\n",
       " 'Subir 0',\n",
       " 'Subir 1',\n",
       " 'Subir 1',\n",
       " 'Bajar 1',\n",
       " 'Subir 0',\n",
       " 'Bajar 0',\n",
       " 'Subir 1',\n",
       " 'Subir 1',\n",
       " 'Bajar 1',\n",
       " 'Subir 0',\n",
       " 'Subir 0',\n",
       " 'Subir 1',\n",
       " 'Subir 1',\n",
       " 'Bajar 1',\n",
       " 'Subir 0',\n",
       " 'Bajar 0',\n",
       " 'Bajar 1',\n",
       " 'Bajar 1']"
      ]
     },
     "execution_count": 37,
     "metadata": {},
     "output_type": "execute_result"
    }
   ],
   "source": [
    "depth_first_graph_search(estado).solution()"
   ]
  },
  {
   "cell_type": "code",
   "execution_count": 42,
   "metadata": {},
   "outputs": [],
   "source": [
    "estado_inicial = ((0,5,0,5,1), (((1,2,0,4), (1,2,4,8)), (((0,),0,0),((3,1),5,1))))"
   ]
  },
  {
   "cell_type": "code",
   "execution_count": 43,
   "metadata": {},
   "outputs": [
    {
     "name": "stdout",
     "output_type": "stream",
     "text": [
      "Solución: ['Parar 0', 'Subir 0', 'Subir 0', 'Subir 0']\n",
      "Algoritmo: uniform_cost_search\n",
      "Longitud de la solución: 4. Nodos analizados: 51\n",
      "CPU times: user 4.95 ms, sys: 197 µs, total: 5.15 ms\n",
      "Wall time: 5.05 ms\n"
     ]
    }
   ],
   "source": [
    "%%time\n",
    "resuelve_ascensores(estado_inicial,uniform_cost_search)"
   ]
  },
  {
   "cell_type": "code",
   "execution_count": 44,
   "metadata": {
    "scrolled": true
   },
   "outputs": [
    {
     "name": "stdout",
     "output_type": "stream",
     "text": [
      "Solución: ['Bajar 1', 'Parar 0', 'Subir 0', 'Subir 1', 'Subir 1', 'Bajar 1', 'Subir 0', 'Bajar 0', 'Subir 1', 'Subir 1', 'Bajar 1', 'Subir 0', 'Subir 0', 'Subir 1', 'Subir 1', 'Bajar 1', 'Subir 0', 'Bajar 0', 'Bajar 1', 'Bajar 1']\n",
      "Algoritmo: depth_first_graph_search\n",
      "Longitud de la solución: 20. Nodos analizados: 34\n",
      "CPU times: user 2.8 ms, sys: 111 µs, total: 2.91 ms\n",
      "Wall time: 2.95 ms\n"
     ]
    }
   ],
   "source": [
    "%%time\n",
    "resuelve_ascensores(estado,depth_first_graph_search)"
   ]
  },
  {
   "cell_type": "code",
   "execution_count": 45,
   "metadata": {},
   "outputs": [
    {
     "ename": "KeyboardInterrupt",
     "evalue": "",
     "output_type": "error",
     "traceback": [
      "\u001b[0;31m---------------------------------------------------------------------------\u001b[0m",
      "\u001b[0;31mKeyboardInterrupt\u001b[0m                         Traceback (most recent call last)",
      "\u001b[0;32m<timed eval>\u001b[0m in \u001b[0;36m<module>\u001b[0;34m\u001b[0m\n",
      "\u001b[0;32m<ipython-input-34-b213b122332d>\u001b[0m in \u001b[0;36mresuelve_ascensores\u001b[0;34m(estado_inicial, algoritmo, h)\u001b[0m\n\u001b[1;32m      6\u001b[0m             \u001b[0msol\u001b[0m\u001b[0;34m=\u001b[0m \u001b[0malgoritmo\u001b[0m\u001b[0;34m(\u001b[0m\u001b[0mp8p\u001b[0m\u001b[0;34m,\u001b[0m\u001b[0mh\u001b[0m\u001b[0;34m)\u001b[0m\u001b[0;34m.\u001b[0m\u001b[0msolution\u001b[0m\u001b[0;34m(\u001b[0m\u001b[0;34m)\u001b[0m\u001b[0;34m\u001b[0m\u001b[0;34m\u001b[0m\u001b[0m\n\u001b[1;32m      7\u001b[0m         \u001b[0;32melse\u001b[0m\u001b[0;34m:\u001b[0m\u001b[0;34m\u001b[0m\u001b[0;34m\u001b[0m\u001b[0m\n\u001b[0;32m----> 8\u001b[0;31m             \u001b[0msol\u001b[0m\u001b[0;34m=\u001b[0m \u001b[0malgoritmo\u001b[0m\u001b[0;34m(\u001b[0m\u001b[0mp8p\u001b[0m\u001b[0;34m)\u001b[0m\u001b[0;34m.\u001b[0m\u001b[0msolution\u001b[0m\u001b[0;34m(\u001b[0m\u001b[0;34m)\u001b[0m\u001b[0;34m\u001b[0m\u001b[0;34m\u001b[0m\u001b[0m\n\u001b[0m\u001b[1;32m      9\u001b[0m         \u001b[0mprint\u001b[0m\u001b[0;34m(\u001b[0m\u001b[0;34m\"Solución: {0}\"\u001b[0m\u001b[0;34m.\u001b[0m\u001b[0mformat\u001b[0m\u001b[0;34m(\u001b[0m\u001b[0msol\u001b[0m\u001b[0;34m)\u001b[0m\u001b[0;34m)\u001b[0m\u001b[0;34m\u001b[0m\u001b[0;34m\u001b[0m\u001b[0m\n\u001b[1;32m     10\u001b[0m         \u001b[0mprint\u001b[0m\u001b[0;34m(\u001b[0m\u001b[0;34m\"Algoritmo: {0}\"\u001b[0m\u001b[0;34m.\u001b[0m\u001b[0mformat\u001b[0m\u001b[0;34m(\u001b[0m\u001b[0malgoritmo\u001b[0m\u001b[0;34m.\u001b[0m\u001b[0m__name__\u001b[0m\u001b[0;34m)\u001b[0m\u001b[0;34m)\u001b[0m\u001b[0;34m\u001b[0m\u001b[0;34m\u001b[0m\u001b[0m\n",
      "\u001b[0;32m~/Python/aima-python-master/search.py\u001b[0m in \u001b[0;36mdepth_first_tree_search\u001b[0;34m(problem)\u001b[0m\n\u001b[1;32m    214\u001b[0m         \u001b[0;32mif\u001b[0m \u001b[0mproblem\u001b[0m\u001b[0;34m.\u001b[0m\u001b[0mgoal_test\u001b[0m\u001b[0;34m(\u001b[0m\u001b[0mnode\u001b[0m\u001b[0;34m.\u001b[0m\u001b[0mstate\u001b[0m\u001b[0;34m)\u001b[0m\u001b[0;34m:\u001b[0m\u001b[0;34m\u001b[0m\u001b[0;34m\u001b[0m\u001b[0m\n\u001b[1;32m    215\u001b[0m             \u001b[0;32mreturn\u001b[0m \u001b[0mnode\u001b[0m\u001b[0;34m\u001b[0m\u001b[0;34m\u001b[0m\u001b[0m\n\u001b[0;32m--> 216\u001b[0;31m         \u001b[0mfrontier\u001b[0m\u001b[0;34m.\u001b[0m\u001b[0mextend\u001b[0m\u001b[0;34m(\u001b[0m\u001b[0mnode\u001b[0m\u001b[0;34m.\u001b[0m\u001b[0mexpand\u001b[0m\u001b[0;34m(\u001b[0m\u001b[0mproblem\u001b[0m\u001b[0;34m)\u001b[0m\u001b[0;34m)\u001b[0m\u001b[0;34m\u001b[0m\u001b[0;34m\u001b[0m\u001b[0m\n\u001b[0m\u001b[1;32m    217\u001b[0m     \u001b[0;32mreturn\u001b[0m \u001b[0;32mNone\u001b[0m\u001b[0;34m\u001b[0m\u001b[0;34m\u001b[0m\u001b[0m\n\u001b[1;32m    218\u001b[0m \u001b[0;34m\u001b[0m\u001b[0m\n",
      "\u001b[0;32m~/Python/aima-python-master/search.py\u001b[0m in \u001b[0;36mexpand\u001b[0;34m(self, problem)\u001b[0m\n\u001b[1;32m    103\u001b[0m         \u001b[0;34m\"\"\"List the nodes reachable in one step from this node.\"\"\"\u001b[0m\u001b[0;34m\u001b[0m\u001b[0;34m\u001b[0m\u001b[0m\n\u001b[1;32m    104\u001b[0m         return [self.child_node(problem, action)\n\u001b[0;32m--> 105\u001b[0;31m                 for action in problem.actions(self.state)]\n\u001b[0m\u001b[1;32m    106\u001b[0m \u001b[0;34m\u001b[0m\u001b[0m\n\u001b[1;32m    107\u001b[0m     \u001b[0;32mdef\u001b[0m \u001b[0mchild_node\u001b[0m\u001b[0;34m(\u001b[0m\u001b[0mself\u001b[0m\u001b[0;34m,\u001b[0m \u001b[0mproblem\u001b[0m\u001b[0;34m,\u001b[0m \u001b[0maction\u001b[0m\u001b[0;34m)\u001b[0m\u001b[0;34m:\u001b[0m\u001b[0;34m\u001b[0m\u001b[0;34m\u001b[0m\u001b[0m\n",
      "\u001b[0;32m~/Python/aima-python-master/search.py\u001b[0m in \u001b[0;36m<listcomp>\u001b[0;34m(.0)\u001b[0m\n\u001b[1;32m    103\u001b[0m         \u001b[0;34m\"\"\"List the nodes reachable in one step from this node.\"\"\"\u001b[0m\u001b[0;34m\u001b[0m\u001b[0;34m\u001b[0m\u001b[0m\n\u001b[1;32m    104\u001b[0m         return [self.child_node(problem, action)\n\u001b[0;32m--> 105\u001b[0;31m                 for action in problem.actions(self.state)]\n\u001b[0m\u001b[1;32m    106\u001b[0m \u001b[0;34m\u001b[0m\u001b[0m\n\u001b[1;32m    107\u001b[0m     \u001b[0;32mdef\u001b[0m \u001b[0mchild_node\u001b[0m\u001b[0;34m(\u001b[0m\u001b[0mself\u001b[0m\u001b[0;34m,\u001b[0m \u001b[0mproblem\u001b[0m\u001b[0;34m,\u001b[0m \u001b[0maction\u001b[0m\u001b[0;34m)\u001b[0m\u001b[0;34m:\u001b[0m\u001b[0;34m\u001b[0m\u001b[0;34m\u001b[0m\u001b[0m\n",
      "\u001b[0;32m~/Python/aima-python-master/search.py\u001b[0m in \u001b[0;36mchild_node\u001b[0;34m(self, problem, action)\u001b[0m\n\u001b[1;32m    107\u001b[0m     \u001b[0;32mdef\u001b[0m \u001b[0mchild_node\u001b[0m\u001b[0;34m(\u001b[0m\u001b[0mself\u001b[0m\u001b[0;34m,\u001b[0m \u001b[0mproblem\u001b[0m\u001b[0;34m,\u001b[0m \u001b[0maction\u001b[0m\u001b[0;34m)\u001b[0m\u001b[0;34m:\u001b[0m\u001b[0;34m\u001b[0m\u001b[0;34m\u001b[0m\u001b[0m\n\u001b[1;32m    108\u001b[0m         \u001b[0;34m\"\"\"[Figure 3.10]\"\"\"\u001b[0m\u001b[0;34m\u001b[0m\u001b[0;34m\u001b[0m\u001b[0m\n\u001b[0;32m--> 109\u001b[0;31m         \u001b[0mnext_state\u001b[0m \u001b[0;34m=\u001b[0m \u001b[0mproblem\u001b[0m\u001b[0;34m.\u001b[0m\u001b[0mresult\u001b[0m\u001b[0;34m(\u001b[0m\u001b[0mself\u001b[0m\u001b[0;34m.\u001b[0m\u001b[0mstate\u001b[0m\u001b[0;34m,\u001b[0m \u001b[0maction\u001b[0m\u001b[0;34m)\u001b[0m\u001b[0;34m\u001b[0m\u001b[0;34m\u001b[0m\u001b[0m\n\u001b[0m\u001b[1;32m    110\u001b[0m         \u001b[0mnext_node\u001b[0m \u001b[0;34m=\u001b[0m \u001b[0mNode\u001b[0m\u001b[0;34m(\u001b[0m\u001b[0mnext_state\u001b[0m\u001b[0;34m,\u001b[0m \u001b[0mself\u001b[0m\u001b[0;34m,\u001b[0m \u001b[0maction\u001b[0m\u001b[0;34m,\u001b[0m \u001b[0mproblem\u001b[0m\u001b[0;34m.\u001b[0m\u001b[0mpath_cost\u001b[0m\u001b[0;34m(\u001b[0m\u001b[0mself\u001b[0m\u001b[0;34m.\u001b[0m\u001b[0mpath_cost\u001b[0m\u001b[0;34m,\u001b[0m \u001b[0mself\u001b[0m\u001b[0;34m.\u001b[0m\u001b[0mstate\u001b[0m\u001b[0;34m,\u001b[0m \u001b[0maction\u001b[0m\u001b[0;34m,\u001b[0m \u001b[0mnext_state\u001b[0m\u001b[0;34m)\u001b[0m\u001b[0;34m)\u001b[0m\u001b[0;34m\u001b[0m\u001b[0;34m\u001b[0m\u001b[0m\n\u001b[1;32m    111\u001b[0m         \u001b[0;32mreturn\u001b[0m \u001b[0mnext_node\u001b[0m\u001b[0;34m\u001b[0m\u001b[0;34m\u001b[0m\u001b[0m\n",
      "\u001b[0;32m<ipython-input-32-36373ec4f412>\u001b[0m in \u001b[0;36mresult\u001b[0;34m(self, estado, accion)\u001b[0m\n\u001b[1;32m     16\u001b[0m \u001b[0;34m\u001b[0m\u001b[0m\n\u001b[1;32m     17\u001b[0m     \u001b[0;32mdef\u001b[0m \u001b[0mresult\u001b[0m\u001b[0;34m(\u001b[0m\u001b[0mself\u001b[0m\u001b[0;34m,\u001b[0m \u001b[0mestado\u001b[0m\u001b[0;34m,\u001b[0m \u001b[0maccion\u001b[0m\u001b[0;34m)\u001b[0m\u001b[0;34m:\u001b[0m\u001b[0;34m\u001b[0m\u001b[0;34m\u001b[0m\u001b[0m\n\u001b[0;32m---> 18\u001b[0;31m         \u001b[0;32mreturn\u001b[0m \u001b[0mself\u001b[0m\u001b[0;34m.\u001b[0m\u001b[0mproblem\u001b[0m\u001b[0;34m.\u001b[0m\u001b[0mresult\u001b[0m\u001b[0;34m(\u001b[0m\u001b[0mestado\u001b[0m\u001b[0;34m,\u001b[0m \u001b[0maccion\u001b[0m\u001b[0;34m)\u001b[0m\u001b[0;34m\u001b[0m\u001b[0;34m\u001b[0m\u001b[0m\n\u001b[0m\u001b[1;32m     19\u001b[0m \u001b[0;34m\u001b[0m\u001b[0m\n\u001b[1;32m     20\u001b[0m     \u001b[0;32mdef\u001b[0m \u001b[0mgoal_test\u001b[0m\u001b[0;34m(\u001b[0m\u001b[0mself\u001b[0m\u001b[0;34m,\u001b[0m \u001b[0mestado\u001b[0m\u001b[0;34m)\u001b[0m\u001b[0;34m:\u001b[0m\u001b[0;34m\u001b[0m\u001b[0;34m\u001b[0m\u001b[0m\n",
      "\u001b[0;32m<ipython-input-29-c8a94fbf4a6f>\u001b[0m in \u001b[0;36mresult\u001b[0;34m(self, estado, accion)\u001b[0m\n\u001b[1;32m     88\u001b[0m         \u001b[0ml\u001b[0m\u001b[0;34m[\u001b[0m\u001b[0;36m1\u001b[0m\u001b[0;34m]\u001b[0m\u001b[0;34m[\u001b[0m\u001b[0;36m0\u001b[0m\u001b[0;34m]\u001b[0m \u001b[0;34m=\u001b[0m \u001b[0mlist\u001b[0m\u001b[0;34m(\u001b[0m\u001b[0ml\u001b[0m\u001b[0;34m[\u001b[0m\u001b[0;36m1\u001b[0m\u001b[0;34m]\u001b[0m\u001b[0;34m[\u001b[0m\u001b[0;36m0\u001b[0m\u001b[0;34m]\u001b[0m\u001b[0;34m)\u001b[0m\u001b[0;34m\u001b[0m\u001b[0;34m\u001b[0m\u001b[0m\n\u001b[1;32m     89\u001b[0m         \u001b[0ml\u001b[0m\u001b[0;34m[\u001b[0m\u001b[0;36m1\u001b[0m\u001b[0;34m]\u001b[0m\u001b[0;34m[\u001b[0m\u001b[0;36m1\u001b[0m\u001b[0;34m]\u001b[0m \u001b[0;34m=\u001b[0m \u001b[0mlist\u001b[0m\u001b[0;34m(\u001b[0m\u001b[0ml\u001b[0m\u001b[0;34m[\u001b[0m\u001b[0;36m1\u001b[0m\u001b[0;34m]\u001b[0m\u001b[0;34m[\u001b[0m\u001b[0;36m1\u001b[0m\u001b[0;34m]\u001b[0m\u001b[0;34m)\u001b[0m\u001b[0;34m\u001b[0m\u001b[0;34m\u001b[0m\u001b[0m\n\u001b[0;32m---> 90\u001b[0;31m         \u001b[0ml\u001b[0m\u001b[0;34m[\u001b[0m\u001b[0;36m1\u001b[0m\u001b[0;34m]\u001b[0m\u001b[0;34m[\u001b[0m\u001b[0;36m0\u001b[0m\u001b[0;34m]\u001b[0m\u001b[0;34m[\u001b[0m\u001b[0;36m0\u001b[0m\u001b[0;34m]\u001b[0m \u001b[0;34m=\u001b[0m \u001b[0mlist\u001b[0m\u001b[0;34m(\u001b[0m\u001b[0ml\u001b[0m\u001b[0;34m[\u001b[0m\u001b[0;36m1\u001b[0m\u001b[0;34m]\u001b[0m\u001b[0;34m[\u001b[0m\u001b[0;36m0\u001b[0m\u001b[0;34m]\u001b[0m\u001b[0;34m[\u001b[0m\u001b[0;36m0\u001b[0m\u001b[0;34m]\u001b[0m\u001b[0;34m)\u001b[0m\u001b[0;34m\u001b[0m\u001b[0;34m\u001b[0m\u001b[0m\n\u001b[0m\u001b[1;32m     91\u001b[0m         \u001b[0ml\u001b[0m\u001b[0;34m[\u001b[0m\u001b[0;36m1\u001b[0m\u001b[0;34m]\u001b[0m\u001b[0;34m[\u001b[0m\u001b[0;36m0\u001b[0m\u001b[0;34m]\u001b[0m\u001b[0;34m[\u001b[0m\u001b[0;36m1\u001b[0m\u001b[0;34m]\u001b[0m \u001b[0;34m=\u001b[0m \u001b[0mlist\u001b[0m\u001b[0;34m(\u001b[0m\u001b[0ml\u001b[0m\u001b[0;34m[\u001b[0m\u001b[0;36m1\u001b[0m\u001b[0;34m]\u001b[0m\u001b[0;34m[\u001b[0m\u001b[0;36m0\u001b[0m\u001b[0;34m]\u001b[0m\u001b[0;34m[\u001b[0m\u001b[0;36m1\u001b[0m\u001b[0;34m]\u001b[0m\u001b[0;34m)\u001b[0m\u001b[0;34m\u001b[0m\u001b[0;34m\u001b[0m\u001b[0m\n\u001b[1;32m     92\u001b[0m         \u001b[0ml\u001b[0m\u001b[0;34m[\u001b[0m\u001b[0;36m1\u001b[0m\u001b[0;34m]\u001b[0m\u001b[0;34m[\u001b[0m\u001b[0;36m1\u001b[0m\u001b[0;34m]\u001b[0m\u001b[0;34m[\u001b[0m\u001b[0;36m0\u001b[0m\u001b[0;34m]\u001b[0m \u001b[0;34m=\u001b[0m \u001b[0mlist\u001b[0m\u001b[0;34m(\u001b[0m\u001b[0ml\u001b[0m\u001b[0;34m[\u001b[0m\u001b[0;36m1\u001b[0m\u001b[0;34m]\u001b[0m\u001b[0;34m[\u001b[0m\u001b[0;36m1\u001b[0m\u001b[0;34m]\u001b[0m\u001b[0;34m[\u001b[0m\u001b[0;36m0\u001b[0m\u001b[0;34m]\u001b[0m\u001b[0;34m)\u001b[0m\u001b[0;34m\u001b[0m\u001b[0;34m\u001b[0m\u001b[0m\n",
      "\u001b[0;31mKeyboardInterrupt\u001b[0m: "
     ]
    }
   ],
   "source": [
    "%%time\n",
    "resuelve_ascensores(estado_inicial,depth_first_tree_search)"
   ]
  },
  {
   "cell_type": "code",
   "execution_count": 46,
   "metadata": {},
   "outputs": [
    {
     "name": "stdout",
     "output_type": "stream",
     "text": [
      "Solución: ['Parar 0', 'Subir 0', 'Subir 0', 'Subir 0']\n",
      "Algoritmo: breadth_first_tree_search\n",
      "Longitud de la solución: 4. Nodos analizados: 124\n",
      "CPU times: user 6.49 ms, sys: 399 µs, total: 6.89 ms\n",
      "Wall time: 7 ms\n"
     ]
    }
   ],
   "source": [
    "%%time\n",
    "resuelve_ascensores(estado_inicial,breadth_first_tree_search)"
   ]
  },
  {
   "cell_type": "code",
   "execution_count": 47,
   "metadata": {},
   "outputs": [
    {
     "name": "stdout",
     "output_type": "stream",
     "text": [
      "Solución: ['Parar 0', 'Subir 0', 'Subir 0', 'Subir 0']\n",
      "Algoritmo: breadth_first_graph_search\n",
      "Longitud de la solución: 4. Nodos analizados: 45\n",
      "CPU times: user 1.99 ms, sys: 83 µs, total: 2.08 ms\n",
      "Wall time: 2.05 ms\n"
     ]
    }
   ],
   "source": [
    "%%time\n",
    "resuelve_ascensores(estado_inicial,breadth_first_graph_search)"
   ]
  },
  {
   "cell_type": "code",
   "execution_count": 48,
   "metadata": {},
   "outputs": [
    {
     "name": "stdout",
     "output_type": "stream",
     "text": [
      "Solución: ['Subir 0', 'Subir 0', 'Subir 0', 'Bajar 0', 'Bajar 0', 'Bajar 0', 'Parar 0', 'Subir 0', 'Subir 0', 'Subir 0']\n",
      "Algoritmo: depth_limited_search\n",
      "Longitud de la solución: 10. Nodos analizados: 5272\n",
      "CPU times: user 68.2 ms, sys: 2.18 ms, total: 70.4 ms\n",
      "Wall time: 71.6 ms\n"
     ]
    }
   ],
   "source": [
    "%%time\n",
    "resuelve_ascensores(estado_inicial,depth_limited_search)"
   ]
  },
  {
   "cell_type": "code",
   "execution_count": 49,
   "metadata": {},
   "outputs": [
    {
     "name": "stdout",
     "output_type": "stream",
     "text": [
      "Solución: ['Parar 0', 'Subir 0', 'Subir 0', 'Subir 0']\n",
      "Algoritmo: iterative_deepening_search\n",
      "Longitud de la solución: 4. Nodos analizados: 173\n",
      "CPU times: user 2.72 ms, sys: 80 µs, total: 2.8 ms\n",
      "Wall time: 2.76 ms\n"
     ]
    }
   ],
   "source": [
    "%%time\n",
    "resuelve_ascensores(estado_inicial,iterative_deepening_search)"
   ]
  },
  {
   "cell_type": "code",
   "execution_count": 65,
   "metadata": {},
   "outputs": [
    {
     "name": "stdout",
     "output_type": "stream",
     "text": [
      "Solución: ['Parar 0', 'Subir 0', 'Subir 0', 'Subir 0']\n",
      "Algoritmo: astar_search\n",
      "Heurística: h1\n",
      "Longitud de la solución: 4. Nodos analizados: 30\n",
      "CPU times: user 3.19 ms, sys: 92 µs, total: 3.28 ms\n",
      "Wall time: 3.25 ms\n"
     ]
    }
   ],
   "source": [
    "%%time\n",
    "resuelve_ascensores(estado_inicial,astar_search,h1)"
   ]
  },
  {
   "cell_type": "code",
   "execution_count": 66,
   "metadata": {},
   "outputs": [
    {
     "name": "stdout",
     "output_type": "stream",
     "text": [
      "Solución: ['Bajar 1', 'Parar 0', 'Subir 0', 'Subir 0', 'Subir 0', 'Subir 1']\n",
      "Algoritmo: astar_search\n",
      "Heurística: h2\n",
      "Longitud de la solución: 6. Nodos analizados: 14\n",
      "CPU times: user 1.36 ms, sys: 91 µs, total: 1.45 ms\n",
      "Wall time: 1.42 ms\n"
     ]
    }
   ],
   "source": [
    "%%time\n",
    "resuelve_ascensores(estado_inicial,astar_search,h2)"
   ]
  },
  {
   "cell_type": "code",
   "execution_count": 67,
   "metadata": {},
   "outputs": [
    {
     "ename": "UnboundLocalError",
     "evalue": "local variable 'count1' referenced before assignment",
     "output_type": "error",
     "traceback": [
      "\u001b[0;31m---------------------------------------------------------------------------\u001b[0m",
      "\u001b[0;31mUnboundLocalError\u001b[0m                         Traceback (most recent call last)",
      "\u001b[0;32m<timed eval>\u001b[0m in \u001b[0;36m<module>\u001b[0;34m\u001b[0m\n",
      "\u001b[0;32m<ipython-input-63-b213b122332d>\u001b[0m in \u001b[0;36mresuelve_ascensores\u001b[0;34m(estado_inicial, algoritmo, h)\u001b[0m\n\u001b[1;32m      4\u001b[0m     \u001b[0;32mif\u001b[0m \u001b[0mp8p\u001b[0m\u001b[0;34m.\u001b[0m\u001b[0mcheck_solvability\u001b[0m\u001b[0;34m(\u001b[0m\u001b[0mestado_inicial\u001b[0m\u001b[0;34m)\u001b[0m\u001b[0;34m:\u001b[0m\u001b[0;34m\u001b[0m\u001b[0;34m\u001b[0m\u001b[0m\n\u001b[1;32m      5\u001b[0m         \u001b[0;32mif\u001b[0m \u001b[0mh\u001b[0m\u001b[0;34m:\u001b[0m\u001b[0;34m\u001b[0m\u001b[0;34m\u001b[0m\u001b[0m\n\u001b[0;32m----> 6\u001b[0;31m             \u001b[0msol\u001b[0m\u001b[0;34m=\u001b[0m \u001b[0malgoritmo\u001b[0m\u001b[0;34m(\u001b[0m\u001b[0mp8p\u001b[0m\u001b[0;34m,\u001b[0m\u001b[0mh\u001b[0m\u001b[0;34m)\u001b[0m\u001b[0;34m.\u001b[0m\u001b[0msolution\u001b[0m\u001b[0;34m(\u001b[0m\u001b[0;34m)\u001b[0m\u001b[0;34m\u001b[0m\u001b[0;34m\u001b[0m\u001b[0m\n\u001b[0m\u001b[1;32m      7\u001b[0m         \u001b[0;32melse\u001b[0m\u001b[0;34m:\u001b[0m\u001b[0;34m\u001b[0m\u001b[0;34m\u001b[0m\u001b[0m\n\u001b[1;32m      8\u001b[0m             \u001b[0msol\u001b[0m\u001b[0;34m=\u001b[0m \u001b[0malgoritmo\u001b[0m\u001b[0;34m(\u001b[0m\u001b[0mp8p\u001b[0m\u001b[0;34m)\u001b[0m\u001b[0;34m.\u001b[0m\u001b[0msolution\u001b[0m\u001b[0;34m(\u001b[0m\u001b[0;34m)\u001b[0m\u001b[0;34m\u001b[0m\u001b[0;34m\u001b[0m\u001b[0m\n",
      "\u001b[0;32m~/Python/aima-python-master/search.py\u001b[0m in \u001b[0;36mastar_search\u001b[0;34m(problem, h, display)\u001b[0m\n\u001b[1;32m    418\u001b[0m     else in your Problem subclass.\"\"\"\n\u001b[1;32m    419\u001b[0m     \u001b[0mh\u001b[0m \u001b[0;34m=\u001b[0m \u001b[0mmemoize\u001b[0m\u001b[0;34m(\u001b[0m\u001b[0mh\u001b[0m \u001b[0;32mor\u001b[0m \u001b[0mproblem\u001b[0m\u001b[0;34m.\u001b[0m\u001b[0mh\u001b[0m\u001b[0;34m,\u001b[0m \u001b[0;34m'h'\u001b[0m\u001b[0;34m)\u001b[0m\u001b[0;34m\u001b[0m\u001b[0;34m\u001b[0m\u001b[0m\n\u001b[0;32m--> 420\u001b[0;31m     \u001b[0;32mreturn\u001b[0m \u001b[0mbest_first_graph_search\u001b[0m\u001b[0;34m(\u001b[0m\u001b[0mproblem\u001b[0m\u001b[0;34m,\u001b[0m \u001b[0;32mlambda\u001b[0m \u001b[0mn\u001b[0m\u001b[0;34m:\u001b[0m \u001b[0mn\u001b[0m\u001b[0;34m.\u001b[0m\u001b[0mpath_cost\u001b[0m \u001b[0;34m+\u001b[0m \u001b[0mh\u001b[0m\u001b[0;34m(\u001b[0m\u001b[0mn\u001b[0m\u001b[0;34m)\u001b[0m\u001b[0;34m,\u001b[0m \u001b[0mdisplay\u001b[0m\u001b[0;34m)\u001b[0m\u001b[0;34m\u001b[0m\u001b[0;34m\u001b[0m\u001b[0m\n\u001b[0m\u001b[1;32m    421\u001b[0m \u001b[0;34m\u001b[0m\u001b[0m\n\u001b[1;32m    422\u001b[0m \u001b[0;34m\u001b[0m\u001b[0m\n",
      "\u001b[0;32m~/Python/aima-python-master/search.py\u001b[0m in \u001b[0;36mbest_first_graph_search\u001b[0;34m(problem, f, display)\u001b[0m\n\u001b[1;32m    273\u001b[0m     \u001b[0mnode\u001b[0m \u001b[0;34m=\u001b[0m \u001b[0mNode\u001b[0m\u001b[0;34m(\u001b[0m\u001b[0mproblem\u001b[0m\u001b[0;34m.\u001b[0m\u001b[0minitial\u001b[0m\u001b[0;34m)\u001b[0m\u001b[0;34m\u001b[0m\u001b[0;34m\u001b[0m\u001b[0m\n\u001b[1;32m    274\u001b[0m     \u001b[0mfrontier\u001b[0m \u001b[0;34m=\u001b[0m \u001b[0mPriorityQueue\u001b[0m\u001b[0;34m(\u001b[0m\u001b[0;34m'min'\u001b[0m\u001b[0;34m,\u001b[0m \u001b[0mf\u001b[0m\u001b[0;34m)\u001b[0m\u001b[0;34m\u001b[0m\u001b[0;34m\u001b[0m\u001b[0m\n\u001b[0;32m--> 275\u001b[0;31m     \u001b[0mfrontier\u001b[0m\u001b[0;34m.\u001b[0m\u001b[0mappend\u001b[0m\u001b[0;34m(\u001b[0m\u001b[0mnode\u001b[0m\u001b[0;34m)\u001b[0m\u001b[0;34m\u001b[0m\u001b[0;34m\u001b[0m\u001b[0m\n\u001b[0m\u001b[1;32m    276\u001b[0m     \u001b[0mexplored\u001b[0m \u001b[0;34m=\u001b[0m \u001b[0mset\u001b[0m\u001b[0;34m(\u001b[0m\u001b[0;34m)\u001b[0m\u001b[0;34m\u001b[0m\u001b[0;34m\u001b[0m\u001b[0m\n\u001b[1;32m    277\u001b[0m     \u001b[0;32mwhile\u001b[0m \u001b[0mfrontier\u001b[0m\u001b[0;34m:\u001b[0m\u001b[0;34m\u001b[0m\u001b[0;34m\u001b[0m\u001b[0m\n",
      "\u001b[0;32m~/Python/aima-python-master/utils.py\u001b[0m in \u001b[0;36mappend\u001b[0;34m(self, item)\u001b[0m\n\u001b[1;32m    854\u001b[0m     \u001b[0;32mdef\u001b[0m \u001b[0mappend\u001b[0m\u001b[0;34m(\u001b[0m\u001b[0mself\u001b[0m\u001b[0;34m,\u001b[0m \u001b[0mitem\u001b[0m\u001b[0;34m)\u001b[0m\u001b[0;34m:\u001b[0m\u001b[0;34m\u001b[0m\u001b[0;34m\u001b[0m\u001b[0m\n\u001b[1;32m    855\u001b[0m         \u001b[0;34m\"\"\"Insert item at its correct position.\"\"\"\u001b[0m\u001b[0;34m\u001b[0m\u001b[0;34m\u001b[0m\u001b[0m\n\u001b[0;32m--> 856\u001b[0;31m         \u001b[0mheapq\u001b[0m\u001b[0;34m.\u001b[0m\u001b[0mheappush\u001b[0m\u001b[0;34m(\u001b[0m\u001b[0mself\u001b[0m\u001b[0;34m.\u001b[0m\u001b[0mheap\u001b[0m\u001b[0;34m,\u001b[0m \u001b[0;34m(\u001b[0m\u001b[0mself\u001b[0m\u001b[0;34m.\u001b[0m\u001b[0mf\u001b[0m\u001b[0;34m(\u001b[0m\u001b[0mitem\u001b[0m\u001b[0;34m)\u001b[0m\u001b[0;34m,\u001b[0m \u001b[0mitem\u001b[0m\u001b[0;34m)\u001b[0m\u001b[0;34m)\u001b[0m\u001b[0;34m\u001b[0m\u001b[0;34m\u001b[0m\u001b[0m\n\u001b[0m\u001b[1;32m    857\u001b[0m \u001b[0;34m\u001b[0m\u001b[0m\n\u001b[1;32m    858\u001b[0m     \u001b[0;32mdef\u001b[0m \u001b[0mextend\u001b[0m\u001b[0;34m(\u001b[0m\u001b[0mself\u001b[0m\u001b[0;34m,\u001b[0m \u001b[0mitems\u001b[0m\u001b[0;34m)\u001b[0m\u001b[0;34m:\u001b[0m\u001b[0;34m\u001b[0m\u001b[0;34m\u001b[0m\u001b[0m\n",
      "\u001b[0;32m~/Python/aima-python-master/utils.py\u001b[0m in \u001b[0;36mmemoized_fn\u001b[0;34m(obj, *args)\u001b[0m\n\u001b[1;32m    529\u001b[0m                 \u001b[0;32mreturn\u001b[0m \u001b[0mgetattr\u001b[0m\u001b[0;34m(\u001b[0m\u001b[0mobj\u001b[0m\u001b[0;34m,\u001b[0m \u001b[0mslot\u001b[0m\u001b[0;34m)\u001b[0m\u001b[0;34m\u001b[0m\u001b[0;34m\u001b[0m\u001b[0m\n\u001b[1;32m    530\u001b[0m             \u001b[0;32melse\u001b[0m\u001b[0;34m:\u001b[0m\u001b[0;34m\u001b[0m\u001b[0;34m\u001b[0m\u001b[0m\n\u001b[0;32m--> 531\u001b[0;31m                 \u001b[0mval\u001b[0m \u001b[0;34m=\u001b[0m \u001b[0mfn\u001b[0m\u001b[0;34m(\u001b[0m\u001b[0mobj\u001b[0m\u001b[0;34m,\u001b[0m \u001b[0;34m*\u001b[0m\u001b[0margs\u001b[0m\u001b[0;34m)\u001b[0m\u001b[0;34m\u001b[0m\u001b[0;34m\u001b[0m\u001b[0m\n\u001b[0m\u001b[1;32m    532\u001b[0m                 \u001b[0msetattr\u001b[0m\u001b[0;34m(\u001b[0m\u001b[0mobj\u001b[0m\u001b[0;34m,\u001b[0m \u001b[0mslot\u001b[0m\u001b[0;34m,\u001b[0m \u001b[0mval\u001b[0m\u001b[0;34m)\u001b[0m\u001b[0;34m\u001b[0m\u001b[0;34m\u001b[0m\u001b[0m\n\u001b[1;32m    533\u001b[0m                 \u001b[0;32mreturn\u001b[0m \u001b[0mval\u001b[0m\u001b[0;34m\u001b[0m\u001b[0;34m\u001b[0m\u001b[0m\n",
      "\u001b[0;32m~/Python/aima-python-master/search.py\u001b[0m in \u001b[0;36m<lambda>\u001b[0;34m(n)\u001b[0m\n\u001b[1;32m    418\u001b[0m     else in your Problem subclass.\"\"\"\n\u001b[1;32m    419\u001b[0m     \u001b[0mh\u001b[0m \u001b[0;34m=\u001b[0m \u001b[0mmemoize\u001b[0m\u001b[0;34m(\u001b[0m\u001b[0mh\u001b[0m \u001b[0;32mor\u001b[0m \u001b[0mproblem\u001b[0m\u001b[0;34m.\u001b[0m\u001b[0mh\u001b[0m\u001b[0;34m,\u001b[0m \u001b[0;34m'h'\u001b[0m\u001b[0;34m)\u001b[0m\u001b[0;34m\u001b[0m\u001b[0;34m\u001b[0m\u001b[0m\n\u001b[0;32m--> 420\u001b[0;31m     \u001b[0;32mreturn\u001b[0m \u001b[0mbest_first_graph_search\u001b[0m\u001b[0;34m(\u001b[0m\u001b[0mproblem\u001b[0m\u001b[0;34m,\u001b[0m \u001b[0;32mlambda\u001b[0m \u001b[0mn\u001b[0m\u001b[0;34m:\u001b[0m \u001b[0mn\u001b[0m\u001b[0;34m.\u001b[0m\u001b[0mpath_cost\u001b[0m \u001b[0;34m+\u001b[0m \u001b[0mh\u001b[0m\u001b[0;34m(\u001b[0m\u001b[0mn\u001b[0m\u001b[0;34m)\u001b[0m\u001b[0;34m,\u001b[0m \u001b[0mdisplay\u001b[0m\u001b[0;34m)\u001b[0m\u001b[0;34m\u001b[0m\u001b[0;34m\u001b[0m\u001b[0m\n\u001b[0m\u001b[1;32m    421\u001b[0m \u001b[0;34m\u001b[0m\u001b[0m\n\u001b[1;32m    422\u001b[0m \u001b[0;34m\u001b[0m\u001b[0m\n",
      "\u001b[0;32m~/Python/aima-python-master/utils.py\u001b[0m in \u001b[0;36mmemoized_fn\u001b[0;34m(obj, *args)\u001b[0m\n\u001b[1;32m    529\u001b[0m                 \u001b[0;32mreturn\u001b[0m \u001b[0mgetattr\u001b[0m\u001b[0;34m(\u001b[0m\u001b[0mobj\u001b[0m\u001b[0;34m,\u001b[0m \u001b[0mslot\u001b[0m\u001b[0;34m)\u001b[0m\u001b[0;34m\u001b[0m\u001b[0;34m\u001b[0m\u001b[0m\n\u001b[1;32m    530\u001b[0m             \u001b[0;32melse\u001b[0m\u001b[0;34m:\u001b[0m\u001b[0;34m\u001b[0m\u001b[0;34m\u001b[0m\u001b[0m\n\u001b[0;32m--> 531\u001b[0;31m                 \u001b[0mval\u001b[0m \u001b[0;34m=\u001b[0m \u001b[0mfn\u001b[0m\u001b[0;34m(\u001b[0m\u001b[0mobj\u001b[0m\u001b[0;34m,\u001b[0m \u001b[0;34m*\u001b[0m\u001b[0margs\u001b[0m\u001b[0;34m)\u001b[0m\u001b[0;34m\u001b[0m\u001b[0;34m\u001b[0m\u001b[0m\n\u001b[0m\u001b[1;32m    532\u001b[0m                 \u001b[0msetattr\u001b[0m\u001b[0;34m(\u001b[0m\u001b[0mobj\u001b[0m\u001b[0;34m,\u001b[0m \u001b[0mslot\u001b[0m\u001b[0;34m,\u001b[0m \u001b[0mval\u001b[0m\u001b[0;34m)\u001b[0m\u001b[0;34m\u001b[0m\u001b[0;34m\u001b[0m\u001b[0m\n\u001b[1;32m    533\u001b[0m                 \u001b[0;32mreturn\u001b[0m \u001b[0mval\u001b[0m\u001b[0;34m\u001b[0m\u001b[0;34m\u001b[0m\u001b[0m\n",
      "\u001b[0;32m<ipython-input-62-f1bfd461d506>\u001b[0m in \u001b[0;36mh3\u001b[0;34m(node)\u001b[0m\n\u001b[1;32m     36\u001b[0m             \u001b[0mno_destino\u001b[0m \u001b[0;34m=\u001b[0m \u001b[0mno_destino\u001b[0m \u001b[0;34m+\u001b[0m \u001b[0;36m1\u001b[0m\u001b[0;34m\u001b[0m\u001b[0;34m\u001b[0m\u001b[0m\n\u001b[1;32m     37\u001b[0m \u001b[0;34m\u001b[0m\u001b[0m\n\u001b[0;32m---> 38\u001b[0;31m     \u001b[0mcount1\u001b[0m \u001b[0;34m+=\u001b[0m \u001b[0;34m(\u001b[0m\u001b[0mno_destino\u001b[0m\u001b[0;34m/\u001b[0m\u001b[0;36m2\u001b[0m\u001b[0;34m)\u001b[0m\u001b[0;34m*\u001b[0m\u001b[0;34m(\u001b[0m\u001b[0mstate\u001b[0m\u001b[0;34m[\u001b[0m\u001b[0;36m1\u001b[0m\u001b[0;34m]\u001b[0m\u001b[0;34m[\u001b[0m\u001b[0;36m0\u001b[0m\u001b[0;34m]\u001b[0m\u001b[0;34m[\u001b[0m\u001b[0;36m0\u001b[0m\u001b[0;34m]\u001b[0m\u001b[0;34m[\u001b[0m\u001b[0;36m1\u001b[0m\u001b[0;34m]\u001b[0m\u001b[0;34m-\u001b[0m\u001b[0mlen\u001b[0m\u001b[0;34m(\u001b[0m\u001b[0mstate\u001b[0m\u001b[0;34m[\u001b[0m\u001b[0;36m1\u001b[0m\u001b[0;34m]\u001b[0m\u001b[0;34m[\u001b[0m\u001b[0;36m1\u001b[0m\u001b[0;34m]\u001b[0m\u001b[0;34m[\u001b[0m\u001b[0;36m0\u001b[0m\u001b[0;34m]\u001b[0m\u001b[0;34m[\u001b[0m\u001b[0;36m0\u001b[0m\u001b[0;34m]\u001b[0m\u001b[0;34m)\u001b[0m\u001b[0;34m)\u001b[0m\u001b[0;34m\u001b[0m\u001b[0;34m\u001b[0m\u001b[0m\n\u001b[0m\u001b[1;32m     39\u001b[0m     \u001b[0mcount2\u001b[0m \u001b[0;34m+=\u001b[0m \u001b[0;34m(\u001b[0m\u001b[0mno_destino\u001b[0m\u001b[0;34m/\u001b[0m\u001b[0;36m2\u001b[0m\u001b[0;34m)\u001b[0m\u001b[0;34m*\u001b[0m\u001b[0;34m(\u001b[0m\u001b[0mstate\u001b[0m\u001b[0;34m[\u001b[0m\u001b[0;36m1\u001b[0m\u001b[0;34m]\u001b[0m\u001b[0;34m[\u001b[0m\u001b[0;36m0\u001b[0m\u001b[0;34m]\u001b[0m\u001b[0;34m[\u001b[0m\u001b[0;36m1\u001b[0m\u001b[0;34m]\u001b[0m\u001b[0;34m[\u001b[0m\u001b[0;36m1\u001b[0m\u001b[0;34m]\u001b[0m\u001b[0;34m-\u001b[0m\u001b[0mlen\u001b[0m\u001b[0;34m(\u001b[0m\u001b[0mstate\u001b[0m\u001b[0;34m[\u001b[0m\u001b[0;36m1\u001b[0m\u001b[0;34m]\u001b[0m\u001b[0;34m[\u001b[0m\u001b[0;36m1\u001b[0m\u001b[0;34m]\u001b[0m\u001b[0;34m[\u001b[0m\u001b[0;36m1\u001b[0m\u001b[0;34m]\u001b[0m\u001b[0;34m[\u001b[0m\u001b[0;36m0\u001b[0m\u001b[0;34m]\u001b[0m\u001b[0;34m)\u001b[0m\u001b[0;34m)\u001b[0m\u001b[0;34m\u001b[0m\u001b[0;34m\u001b[0m\u001b[0m\n\u001b[1;32m     40\u001b[0m     \u001b[0mcount\u001b[0m \u001b[0;34m+=\u001b[0m \u001b[0mmax\u001b[0m\u001b[0;34m(\u001b[0m\u001b[0mcount1\u001b[0m\u001b[0;34m,\u001b[0m\u001b[0mcount2\u001b[0m\u001b[0;34m)\u001b[0m\u001b[0;34m\u001b[0m\u001b[0;34m\u001b[0m\u001b[0m\n",
      "\u001b[0;31mUnboundLocalError\u001b[0m: local variable 'count1' referenced before assignment"
     ]
    }
   ],
   "source": [
    "%%time\n",
    "resuelve_ascensores(estado_inicial,astar_search,h3)"
   ]
  },
  {
   "cell_type": "code",
   "execution_count": 59,
   "metadata": {},
   "outputs": [
    {
     "name": "stdout",
     "output_type": "stream",
     "text": [
      "Solución: ['Bajar 1', 'Parar 0', 'Subir 0', 'Subir 0', 'Subir 0', 'Subir 1']\n",
      "Algoritmo: best_first_graph_search\n",
      "Heurística: h1\n",
      "Longitud de la solución: 6. Nodos analizados: 69\n"
     ]
    }
   ],
   "source": [
    "resuelve_ascensores(estado_inicial,best_first_graph_search,h1)"
   ]
  },
  {
   "cell_type": "code",
   "execution_count": 60,
   "metadata": {},
   "outputs": [
    {
     "name": "stdout",
     "output_type": "stream",
     "text": [
      "Solución: ['Bajar 1', 'Subir 0', 'Bajar 0', 'Parar 0', 'Subir 0', 'Subir 0', 'Subir 0', 'Subir 1']\n",
      "Algoritmo: best_first_graph_search\n",
      "Heurística: h2\n",
      "Longitud de la solución: 8. Nodos analizados: 18\n"
     ]
    }
   ],
   "source": [
    "resuelve_ascensores(estado_inicial,best_first_graph_search,h2)"
   ]
  },
  {
   "cell_type": "code",
   "execution_count": 61,
   "metadata": {},
   "outputs": [
    {
     "name": "stdout",
     "output_type": "stream",
     "text": [
      "Solución: ['Parar 0', 'Subir 1', 'Bajar 1', 'Subir 0', 'Subir 0', 'Subir 0']\n",
      "Algoritmo: best_first_graph_search\n",
      "Heurística: h3\n",
      "Longitud de la solución: 6. Nodos analizados: 51\n"
     ]
    }
   ],
   "source": [
    "resuelve_ascensores(estado_inicial,best_first_graph_search,h3)"
   ]
  },
  {
   "cell_type": "code",
   "execution_count": null,
   "metadata": {},
   "outputs": [],
   "source": []
  }
 ],
 "metadata": {
  "kernelspec": {
   "display_name": "Python 3",
   "language": "python",
   "name": "python3"
  },
  "language_info": {
   "codemirror_mode": {
    "name": "ipython",
    "version": 3
   },
   "file_extension": ".py",
   "mimetype": "text/x-python",
   "name": "python",
   "nbconvert_exporter": "python",
   "pygments_lexer": "ipython3",
   "version": "3.7.4"
  }
 },
 "nbformat": 4,
 "nbformat_minor": 2
}
