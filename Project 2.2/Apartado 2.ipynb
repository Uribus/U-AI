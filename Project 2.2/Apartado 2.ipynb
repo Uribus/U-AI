{
 "cells": [
  {
   "cell_type": "markdown",
   "metadata": {},
   "source": [
    "# G01"
   ]
  },
  {
   "cell_type": "markdown",
   "metadata": {},
   "source": [
    "# Cristina Molina"
   ]
  },
  {
   "cell_type": "markdown",
   "metadata": {},
   "source": [
    "# Jaime del Rey"
   ]
  },
  {
   "cell_type": "markdown",
   "metadata": {},
   "source": [
    "# Indice\n",
    "- [Vectorizer ngramas(1,1), binary = false](#Vectorizer-ngramas-(1,1))\n",
    "- [Distancia del coseno ngramas(1,1), binary = false](#Calculo-de-distancia-del-coseno-ngramas-(1,1))\n",
    "- [Cálculo de la precisión ngramas(1,1), binary = false](#Calculo-de-la-precisión-ngramas-(1,1))\n",
    "- [Conclusiones ngramas(1,1) con frecuencia](#Conclusiones-ngramas-(1,1)-con-frecuencia)\n",
    "- [Transformación TF/IDF](#TF/IDF)\n",
    "- [Cálculo de la precisión TF/IDF](#Cálculo-de-la-precisión)\n",
    "- [ Conclusiones ngrama(1,1) TF/IDF](#Conclusiones)"
   ]
  },
  {
   "cell_type": "markdown",
   "metadata": {},
   "source": [
    "# A interés del/a corrector/a\n",
    "\n",
    "Para una mayor comprensión del Notebook hemos desglosado los pasos en los que se pide crear estructuras de datos mostrando resultados en la creación de varias estructuras llevando cada una a la siguiente hasta el resultado final. Por ello encontrará, en este caso, varias matrices cuando podría haberse resuelto con una función y una matriz (o un par de ellas). Consideramos que esto permite una mayor y mejor visualización de el código y los pasos ejecutados."
   ]
  },
  {
   "cell_type": "code",
   "execution_count": 2,
   "metadata": {},
   "outputs": [],
   "source": [
    "from sklearn.datasets import fetch_20newsgroups\n",
    "from sklearn.feature_extraction.text import CountVectorizer\n",
    "from sklearn.feature_extraction.text import TfidfTransformer\n",
    "from sklearn.metrics.pairwise import cosine_similarity\n",
    "from sklearn.feature_extraction.text import TfidfTransformer\n",
    "import pandas as pd"
   ]
  },
  {
   "cell_type": "code",
   "execution_count": 3,
   "metadata": {},
   "outputs": [
    {
     "name": "stdout",
     "output_type": "stream",
     "text": [
      "Training texts: 11314\n",
      "Test texts: 7532\n"
     ]
    }
   ],
   "source": [
    "train_data = fetch_20newsgroups(subset='train', shuffle=True, random_state=42)\n",
    "test_data = fetch_20newsgroups(subset='test')\n",
    "\n",
    "print(\"Training texts:\", len(train_data.data))\n",
    "print(\"Test texts:\", len(test_data.data))"
   ]
  },
  {
   "cell_type": "code",
   "execution_count": 4,
   "metadata": {},
   "outputs": [],
   "source": [
    "import numpy as np\n",
    "import numpy.ma as ma\n",
    "\n",
    "def write_terms (feature_names, data, vector_data, index):\n",
    "    '''\n",
    "    Escribe los términos presentes en un mensaje representado como bolsa de palabras.\n",
    "    \n",
    "    - feature_names: terminos usados para vectorizar\n",
    "    - data: lista de mensajes original (si data==None no se muestra el mensaje original)\n",
    "    - vector_data: matriz (dispersa) de mensaje vectorizados\n",
    "    - index: posición del mensaje a mostrar\n",
    "    '''\n",
    "    # máscara para seleccionar sólo el mensaje en posición index\n",
    "    mask=vector_data[index,:]>0\n",
    "    \n",
    "    # términos que aparecen en ese mensaje vectorizado\n",
    "    terminos = ma.array(feature_names, mask = ~(mask[0].toarray()))\n",
    "    \n",
    "    # mostrar mensaje original\n",
    "    if data:\n",
    "        print('Mensaje', index, ':', data[index])\n",
    "    \n",
    "    # mostrar términos que aparecen en el mensaje vectorizado\n",
    "    print('Mensaje', index, 'vectorizado:', terminos.compressed(),'\\n')"
   ]
  },
  {
   "cell_type": "markdown",
   "metadata": {},
   "source": [
    "# Vectorizer ngramas (1,1)"
   ]
  },
  {
   "cell_type": "code",
   "execution_count": 5,
   "metadata": {},
   "outputs": [],
   "source": [
    "# Abrimos el archivo que contiene el vocabulario\n",
    "with open('words.txt') as f:\n",
    "    dictionary = f.read().splitlines()\n",
    "\n",
    "#Ponemos ngrama (1,1) y binary = False\n",
    "vectorizer = CountVectorizer(vocabulary=dictionary, stop_words='english', ngram_range = (1,1),binary = False)\n",
    "\n",
    "train_vector_data = vectorizer.fit_transform(train_data.data)\n",
    "feature_names= vectorizer.get_feature_names()\n",
    "\n",
    "test_vector_data = vectorizer.fit_transform(test_data.data)"
   ]
  },
  {
   "cell_type": "code",
   "execution_count": 5,
   "metadata": {},
   "outputs": [
    {
     "name": "stdout",
     "output_type": "stream",
     "text": [
      "Mensaje 0 : From: v064mb9k@ubvmsd.cc.buffalo.edu (NEIL B. GANDLER)\n",
      "Subject: Need info on 88-89 Bonneville\n",
      "Organization: University at Buffalo\n",
      "Lines: 10\n",
      "News-Software: VAX/VMS VNEWS 1.41\n",
      "Nntp-Posting-Host: ubvmsd.cc.buffalo.edu\n",
      "\n",
      "\n",
      " I am a little confused on all of the models of the 88-89 bonnevilles.\n",
      "I have heard of the LE SE LSE SSE SSEI. Could someone tell me the\n",
      "differences are far as features or performance. I am also curious to\n",
      "know what the book value is for prefereably the 89 model. And how much\n",
      "less than book value can you usually get them for. In other words how\n",
      "much are they in demand this time of year. I have heard that the mid-spring\n",
      "early summer is the best time to buy.\n",
      "\n",
      "\t\t\tNeil Gandler\n",
      "\n",
      "Mensaje 0 vectorizado: ['buy' 'confused' 'curious' 'demand' 'differences' 'features' 'heard'\n",
      " 'year' 'info' 'know' 'le' 'lines' 'model' 'models' 'need' 'organization'\n",
      " 'performance' 'posting' 'software' 'subject' 'usually' 'value' 'words'] \n",
      "\n"
     ]
    }
   ],
   "source": [
    "write_terms(feature_names, test_data.data, test_vector_data, 0)"
   ]
  },
  {
   "cell_type": "code",
   "execution_count": 6,
   "metadata": {},
   "outputs": [
    {
     "data": {
      "text/plain": [
       "['alt.atheism',\n",
       " 'comp.graphics',\n",
       " 'comp.os.ms-windows.misc',\n",
       " 'comp.sys.ibm.pc.hardware',\n",
       " 'comp.sys.mac.hardware',\n",
       " 'comp.windows.x',\n",
       " 'misc.forsale',\n",
       " 'rec.autos',\n",
       " 'rec.motorcycles',\n",
       " 'rec.sport.baseball',\n",
       " 'rec.sport.hockey',\n",
       " 'sci.crypt',\n",
       " 'sci.electronics',\n",
       " 'sci.med',\n",
       " 'sci.space',\n",
       " 'soc.religion.christian',\n",
       " 'talk.politics.guns',\n",
       " 'talk.politics.mideast',\n",
       " 'talk.politics.misc',\n",
       " 'talk.religion.misc']"
      ]
     },
     "execution_count": 6,
     "metadata": {},
     "output_type": "execute_result"
    }
   ],
   "source": [
    "classes = len(test_data.target_names)\n",
    "#el orden que aparece será en que aparezcan en las matrices siguientes\n",
    "test_data.target_names"
   ]
  },
  {
   "cell_type": "code",
   "execution_count": 8,
   "metadata": {},
   "outputs": [],
   "source": [
    "def quetarget ():\n",
    "    matrix = np.zeros((classes,3), dtype = int)\n",
    "    '''\n",
    "    Matriz con los indices de los mensajes seleccionados\n",
    "    Cada fila de la matriz es una clase/tema y cada columna es el indice de un mensaje perteneciente a dicha clase\n",
    "    '''\n",
    "    for i in range (len(test_data.target_names)): #para cada clase\n",
    "        x = 0\n",
    "        for j in range (len(test_data.target)):   #para cada mensaje en test\n",
    "            if (test_data.target[j] == i):        #si la clase del mensaje pertenece a la clase que estamos buscando\n",
    "                matrix[i,x] = int (j)             #lo almacenamos en el array de dicha clase\n",
    "                x = x + 1\n",
    "                if x == 3:                        #cuando lleguemos a 3 mensajes por clase paramos\n",
    "                    break\n",
    "    \n",
    "    return matrix \n",
    "    "
   ]
  },
  {
   "cell_type": "code",
   "execution_count": 9,
   "metadata": {},
   "outputs": [
    {
     "name": "stdout",
     "output_type": "stream",
     "text": [
      "[[  2  14  49]\n",
      " [  9  17  20]\n",
      " [ 10  15  41]\n",
      " [ 24  29  33]\n",
      " [ 16  32  37]\n",
      " [  1   8  11]\n",
      " [ 18  21  38]\n",
      " [  0  27  28]\n",
      " [ 13  42  50]\n",
      " [ 36  53  69]\n",
      " [ 56  61  72]\n",
      " [ 26  44  48]\n",
      " [ 84 109 120]\n",
      " [  5  25  52]\n",
      " [ 23  34  46]\n",
      " [  6   7  87]\n",
      " [ 19  58  86]\n",
      " [  3  12  22]\n",
      " [ 65  66  71]\n",
      " [  4  63  73]]\n"
     ]
    }
   ],
   "source": [
    "matrix = quetarget()\n",
    "#imprimimos los índices de los mensajes que hemos recopilado\n",
    "print (matrix)"
   ]
  },
  {
   "cell_type": "markdown",
   "metadata": {},
   "source": [
    "Vamos a comprobar que, en efecto, los mensajes pertenecen a dicha clase.<br> Escogemos una fila al azar y comprobamos su clase. Después buscaremos un mensaje de esa fila y veremos si tiene sentido en esa clase."
   ]
  },
  {
   "cell_type": "code",
   "execution_count": 10,
   "metadata": {},
   "outputs": [
    {
     "data": {
      "text/plain": [
       "'rec.autos'"
      ]
     },
     "execution_count": 10,
     "metadata": {},
     "output_type": "execute_result"
    }
   ],
   "source": [
    "test_data.target_names[7]"
   ]
  },
  {
   "cell_type": "code",
   "execution_count": 11,
   "metadata": {},
   "outputs": [
    {
     "data": {
      "text/plain": [
       "'From: cadiz@rtsg.mot.com (Jay Cadiz)\\nSubject: GTS Headlight Covers\\nNntp-Posting-Host: azure5\\nOrganization: Motorola Inc., Cellular Infrastructure Group\\nDistribution: usa\\nLines: 15\\n\\nI have a 90 Eagle Talon and I wanted a pair of GTS \\nHeadlight covers.  Actually, they are turning signal\\ncovers since the Talons that year had pop-up lights.\\nI went to a auto shop and bought the tail-light \\nblackouts for $45, but they did not have the turning\\nsignal covers in stock.  I asked how much it would be\\nand he told me it would cost me another $40.  I thought\\nthis was a bit high for two small pieces of plastic.\\nCan anyone find me a cheaper pair or even a used one?\\n\\n\\nJay Cadiz\\ncadiz@marble.rtsg.mot.com\\nMotorola, Inc.\\nArlington Heights, IL\\n'"
      ]
     },
     "execution_count": 11,
     "metadata": {},
     "output_type": "execute_result"
    }
   ],
   "source": [
    "test_data.data[matrix[7,1]]"
   ]
  },
  {
   "cell_type": "markdown",
   "metadata": {},
   "source": [
    "'I wanted a pair of GTS \\nHeadlight covers.' / 'I went to a auto shop'\n",
    "\n",
    "Tienen sentido en dicha clase ya que habla de recambios de coche (faros concretamente)<br> Y el mensaje vectorizado:"
   ]
  },
  {
   "cell_type": "code",
   "execution_count": 12,
   "metadata": {},
   "outputs": [
    {
     "name": "stdout",
     "output_type": "stream",
     "text": [
      "Mensaje 27 vectorizado: ['actually' 'asked' 'auto' 'blackouts' 'bought' 'cellular' 'cheaper'\n",
      " 'covers' 'distribution' 'group' 'headlight' 'heights' 'year' 'il'\n",
      " 'infrastructure' 'lights' 'lines' 'organization' 'pair' 'pieces'\n",
      " 'plastic' 'posting' 'shop' 'signal' 'subject' 'tail' 'talon' 'talons'\n",
      " 'thought' 'told' 'turning' 'used' 'wanted' 'went'] \n",
      "\n"
     ]
    }
   ],
   "source": [
    "# máscara para seleccionar sólo el mensaje en posición index\n",
    "mask=test_vector_data[matrix[7,1],:]>0\n",
    "# términos que aparecen en ese mensaje vectorizado\n",
    "terminos = ma.array(feature_names, mask = ~(mask[0].toarray()))\n",
    "# mostrar términos que aparecen en el mensaje vectorizado\n",
    "print('Mensaje', matrix[7,1], 'vectorizado:', terminos.compressed(),'\\n')"
   ]
  },
  {
   "cell_type": "code",
   "execution_count": 13,
   "metadata": {},
   "outputs": [
    {
     "data": {
      "text/plain": [
       "'comp.graphics'"
      ]
     },
     "execution_count": 13,
     "metadata": {},
     "output_type": "execute_result"
    }
   ],
   "source": [
    "test_data.target_names[1]"
   ]
  },
  {
   "cell_type": "code",
   "execution_count": 14,
   "metadata": {},
   "outputs": [
    {
     "data": {
      "text/plain": [
       "\"From: vicente@cenaath.cena.dgac.fr (Martin VICENTE (CENA/SID))\\nSubject: Re: 3D input devices\\nOriginator: vicente@milou\\nKeywords: 3d,input,device\\nOrganization: C.E.N.A. (Centre d'Etudes de la Navigation Aerienne)\\nLines: 11\\n\\n\\nHello,\\ni'm interested in those devices too.\\nCould also send me your suggestions.\\nThank in advance.\\nRegards.\\n-- \\n\\n Martin VICENTE  (E-mail: vicente@cenaath.cena.dgac.fr - Tph: 69 84 56 88)\\n  Centre d'Etudes de la Navigation Aerienne   _/_/_/ _/_/       / o \\\\ / o \\\\\\n  Div. Support Informatique & Developpement      _/ _/  _/      \\\\___/ \\\\___/\\n\""
      ]
     },
     "execution_count": 14,
     "metadata": {},
     "output_type": "execute_result"
    }
   ],
   "source": [
    "test_data.data[matrix[1,1]]"
   ]
  },
  {
   "cell_type": "markdown",
   "metadata": {},
   "source": [
    "'3D input devices'/ 'i'm interested in those devices too.'\n",
    "\n",
    "Refiriendo a las componentes gráficas 3D<br> Y el mensaje vectorizado:"
   ]
  },
  {
   "cell_type": "code",
   "execution_count": 15,
   "metadata": {},
   "outputs": [
    {
     "name": "stdout",
     "output_type": "stream",
     "text": [
      "Mensaje 17 vectorizado: ['advance' 'device' 'devices' 'etudes' 'hello' 'input' 'interested'\n",
      " 'keywords' 'lines' 'mail' 'navigation' 'organization' 'originator'\n",
      " 'regards' 'send' 'subject' 'suggestions' 'support' 'thank' 'tph'] \n",
      "\n"
     ]
    }
   ],
   "source": [
    "print('Mensaje', 17, 'vectorizado:', ma.array(feature_names, mask = ~((test_vector_data[matrix[1,1],:]>0)[0].toarray())).compressed(),'\\n')"
   ]
  },
  {
   "cell_type": "code",
   "execution_count": 16,
   "metadata": {},
   "outputs": [
    {
     "data": {
      "text/plain": [
       "array([0.00510689, 0.00531474, 0.00534706, ..., 0.2941742 , 0.29462783,\n",
       "       0.30935922])"
      ]
     },
     "execution_count": 16,
     "metadata": {},
     "output_type": "execute_result"
    }
   ],
   "source": [
    "#observar como nos da una lista de valores (similitud con cada mensaje)\n",
    "np.sort(cosine_similarity(test_vector_data[matrix[1,1],:], train_vector_data)[0,:])"
   ]
  },
  {
   "cell_type": "markdown",
   "metadata": {},
   "source": [
    "## Calculo de distancia del coseno ngramas (1,1)"
   ]
  },
  {
   "cell_type": "markdown",
   "metadata": {},
   "source": [
    "Vamos a obtener los valores de la similitud del coseno de cada mensaje y almacenarlos en una matriz."
   ]
  },
  {
   "cell_type": "code",
   "execution_count": 10,
   "metadata": {},
   "outputs": [],
   "source": [
    "def matriz_coseno_ord (matrix_indexes, vectorized_messages ,matrix_corpus):\n",
    "    '''\n",
    "    MATRIZ CON LA SIMILITUD DEL COSENO DE CADA MENSAJE CON EL RESTO, ORDENADOS LOS VALORES\n",
    "    Cada fila de la matriz es una clase/tema y cada columna es vector de valores de similaridad del coseno del mensaje\n",
    "    -matrix_indexes: matriz con los índices de los mensajes de cada clase\n",
    "    -vectorized_messages: matriz dispersa con los mensajes vectorizados\n",
    "    -word_corpus: matriz de términos de los textos del corpus\n",
    "    '''\n",
    "    m = np.zeros((classes,3),dtype = list)                                                     #creamos una matriz de listas\n",
    "    for i in range (len(matrix)):                 \n",
    "        for j in range (3): \n",
    "            m[i,j] = -np.sort(-cosine_similarity(vectorized_messages[matrix_indexes[i,j],:], matrix_corpus)[0,:]) #introducimos en la posición \n",
    "                                                                                          #del mensaje la lista en orden\n",
    "                                                                                          #descendente de los valores resultantes\n",
    "    return m\n",
    "    "
   ]
  },
  {
   "cell_type": "code",
   "execution_count": 11,
   "metadata": {},
   "outputs": [],
   "source": [
    "matrix_cos = matriz_coseno_ord(matrix, test_vector_data ,train_vector_data)"
   ]
  },
  {
   "cell_type": "code",
   "execution_count": 19,
   "metadata": {},
   "outputs": [
    {
     "data": {
      "text/plain": [
       "array([[array([0.47172818, 0.45275437, 0.40089186, ..., 0.00695863, 0.00678232,\n",
       "       0.0056817 ]),\n",
       "        array([0.35698807, 0.33829381, 0.32846258, ..., 0.00256392, 0.00192067,\n",
       "       0.00172622]),\n",
       "        array([0.35750785, 0.34445018, 0.33957856, ..., 0.0031398 , 0.00291994,\n",
       "       0.00288409])],\n",
       "       [array([0.31945757, 0.30139814, 0.29933304, ..., 0.00644531, 0.0052652 ,\n",
       "       0.00433947]),\n",
       "        array([0.30935922, 0.29462783, 0.2941742 , ..., 0.00534706, 0.00531474,\n",
       "       0.00510689]),\n",
       "        array([0.2240599 , 0.19470104, 0.1925731 , ..., 0.00246022, 0.00225674,\n",
       "       0.00221115])],\n",
       "       [array([0.46523541, 0.45355737, 0.44001528, ..., 0.00581054, 0.00536794,\n",
       "       0.00527564]),\n",
       "        array([0.48532383, 0.4787899 , 0.46948553, ..., 0.00369543, 0.00264455,\n",
       "       0.00237682]),\n",
       "        array([0.56011203, 0.51639778, 0.45677344, ..., 0.00611167, 0.00597085,\n",
       "       0.00549123])],\n",
       "       [array([0.73372315, 0.51717206, 0.51388338, ..., 0.0036724 , 0.00336765,\n",
       "       0.00302672]),\n",
       "        array([0.38575837, 0.37716825, 0.36380344, ..., 0.00818258, 0.0069358 ,\n",
       "       0.00668105]),\n",
       "        array([0.40233407, 0.38484129, 0.33756998, ..., 0.00624775, 0.00561524,\n",
       "       0.00458483])],\n",
       "       [array([0.31335979, 0.31081148, 0.30906127, ..., 0.00562756, 0.00505784,\n",
       "       0.00412971]),\n",
       "        array([0.41391868, 0.39886202, 0.37219368, ..., 0.00821218, 0.00785039,\n",
       "       0.00640982]),\n",
       "        array([0.47809144, 0.43915503, 0.43412157, ..., 0.00697901, 0.00672267,\n",
       "       0.00645976])],\n",
       "       [array([0.41478068, 0.38258459, 0.33463647, ..., 0.00693746, 0.00623513,\n",
       "       0.00381822]),\n",
       "        array([0.34565056, 0.34426519, 0.34020691, ..., 0.00708632, 0.00658947,\n",
       "       0.00578596]),\n",
       "        array([0.59172634, 0.54765786, 0.54232614, ..., 0.00532515, 0.00522241,\n",
       "       0.00326098])],\n",
       "       [array([0.38215785, 0.34044145, 0.32826608, ..., 0.0071727 , 0.00683036,\n",
       "       0.00394769]),\n",
       "        array([0.58834841, 0.5728919 , 0.56613852, ..., 0.01154186, 0.01111793,\n",
       "       0.01068313]),\n",
       "        array([0.58834841, 0.57735027, 0.56694671, ..., 0.01021378, 0.01008803,\n",
       "       0.00802059])],\n",
       "       [array([0.39192476, 0.3509312 , 0.34848139, ..., 0.00806271, 0.00772767,\n",
       "       0.0068376 ]),\n",
       "        array([0.34143168, 0.28342172, 0.26135419, ..., 0.00628603, 0.00616475,\n",
       "       0.00573244]),\n",
       "        array([0.32867902, 0.31929871, 0.27957887, ..., 0.00408276, 0.00305845,\n",
       "       0.00274882])],\n",
       "       [array([0.50452498, 0.48786938, 0.48317657, ..., 0.00564288, 0.00561133,\n",
       "       0.00522934]),\n",
       "        array([0.74739249, 0.54840282, 0.54458115, ..., 0.00760276, 0.00582723,\n",
       "       0.0056132 ]),\n",
       "        array([0.34966291, 0.30869745, 0.29393877, ..., 0.00548458, 0.00520736,\n",
       "       0.00425179])],\n",
       "       [array([0.54073807, 0.51802746, 0.46192128, ..., 0.00698305, 0.00574776,\n",
       "       0.00383712]),\n",
       "        array([0.37670678, 0.37512285, 0.33886927, ..., 0.00338849, 0.00253836,\n",
       "       0.00228139]),\n",
       "        array([0.31538785, 0.29453196, 0.28653413, ..., 0.00537213, 0.00439236,\n",
       "       0.00394769])],\n",
       "       [array([0.38729833, 0.38729833, 0.35721725, ..., 0.00821533, 0.00764751,\n",
       "       0.00751618]),\n",
       "        array([0.26222462, 0.23890924, 0.23408229, ..., 0.00479509, 0.00469174,\n",
       "       0.00430964]),\n",
       "        array([0.30018323, 0.28070749, 0.27936465, ..., 0.00319504, 0.00239345,\n",
       "       0.00215114])],\n",
       "       [array([0.54289287, 0.48019604, 0.36391267, ..., 0.00333436, 0.00329342,\n",
       "       0.00268907]),\n",
       "        array([0.44505397, 0.32570237, 0.30872754, ..., 0.00407659, 0.00366389,\n",
       "       0.00299155]),\n",
       "        array([0.37546719, 0.35839147, 0.35688713, ..., 0.00773437, 0.00633168,\n",
       "       0.00520736])],\n",
       "       [array([0.34020691, 0.33333333, 0.32025631, ..., 0.00788453, 0.00708632,\n",
       "       0.00578596]),\n",
       "        array([0.41537358, 0.39668368, 0.36206941, ..., 0.00486215, 0.00436992,\n",
       "       0.00356802]),\n",
       "        array([0.69021975, 0.53070337, 0.42122407, ..., 0.00779588, 0.0077896 ,\n",
       "       0.00388912])],\n",
       "       [array([0.39848615, 0.38551229, 0.38488651, ..., 0.00215298, 0.00195823,\n",
       "       0.00131842]),\n",
       "        array([0.36373031, 0.29053398, 0.27562473, ..., 0.0059129 , 0.00504053,\n",
       "       0.00457997]),\n",
       "        array([0.42531608, 0.36633751, 0.36391267, ..., 0.0067353 , 0.00605343,\n",
       "       0.00494261])],\n",
       "       [array([0.42139407, 0.40657856, 0.39779613, ..., 0.00489676, 0.00440102,\n",
       "       0.00359342]),\n",
       "        array([0.74069322, 0.67637599, 0.35265109, ..., 0.00167376, 0.00162217,\n",
       "       0.00132256]),\n",
       "        array([0.29998751, 0.24156574, 0.23864654, ..., 0.00332898, 0.00309588,\n",
       "       0.00305787])],\n",
       "       [array([0.43643578, 0.43643578, 0.40824829, ..., 0.00555968, 0.00472508,\n",
       "       0.00431398]),\n",
       "        array([0.55048188, 0.50311529, 0.45184806, ..., 0.00582201, 0.00475365,\n",
       "       0.00456774]),\n",
       "        array([0.55242216, 0.50636968, 0.46278509, ..., 0.00642012, 0.006121  ,\n",
       "       0.00589617])],\n",
       "       [array([0.48349378, 0.43519414, 0.39886202, ..., 0.00826832, 0.00801125,\n",
       "       0.00640982]),\n",
       "        array([0.36541915, 0.34878698, 0.32908627, ..., 0.00223174, 0.00218364,\n",
       "       0.0020058 ]),\n",
       "        array([0.34649573, 0.2547409 , 0.25405717, ..., 0.00596866, 0.00569512,\n",
       "       0.00313446])],\n",
       "       [array([0.34595456, 0.33055167, 0.32169656, ..., 0.00344516, 0.00327273,\n",
       "       0.00257803]),\n",
       "        array([0.28805286, 0.24412476, 0.24399771, ..., 0.00441175, 0.00360714,\n",
       "       0.00324196]),\n",
       "        array([0.24710043, 0.24392676, 0.21985536, ..., 0.00274452, 0.00249331,\n",
       "       0.00224089])],\n",
       "       [array([0.27317918, 0.26747227, 0.25784831, ..., 0.00470579, 0.00449847,\n",
       "       0.00367299]),\n",
       "        array([0.45339284, 0.37588773, 0.37242265, ..., 0.00581762, 0.00574619,\n",
       "       0.00469174]),\n",
       "        array([0.66666667, 0.66666667, 0.6172134 , ..., 0.01164865, 0.01016815,\n",
       "       0.00917702])],\n",
       "       [array([0.45655067, 0.4125685 , 0.40112873, ..., 0.00506381, 0.00461785,\n",
       "       0.00447833]),\n",
       "        array([0.40824829, 0.4061812 , 0.35355339, ..., 0.00746357, 0.00721014,\n",
       "       0.00578596]),\n",
       "        array([0.68926057, 0.46257457, 0.41287737, ..., 0.00377706, 0.00361065,\n",
       "       0.00294809])]], dtype=object)"
      ]
     },
     "execution_count": 19,
     "metadata": {},
     "output_type": "execute_result"
    }
   ],
   "source": [
    "matrix_cos"
   ]
  },
  {
   "cell_type": "markdown",
   "metadata": {},
   "source": [
    "Para poder acceder a los mensajes recuperados en orden de relevancia usaremos la matriz con los valores sin ordenar, ya que nos proporciona la posición del mensaje con que tuvo similitud X."
   ]
  },
  {
   "cell_type": "code",
   "execution_count": 12,
   "metadata": {},
   "outputs": [],
   "source": [
    "def matriz_coseno (matrix_indexes, vectorized_messages ,matrix_corpus):\n",
    "    '''\n",
    "    MATRIZ CON LA SIMILITUD DEL COSENO DE CADA MENSAJE CON EL RESTO, SIN ORDENAR LOS VALORES\n",
    "    Cada fila de la matriz es una clase/tema y cada columna es vector de valores de similaridad del coseno del mensaje\n",
    "    -matrix_indexes: matriz con los índices de los mensajes de cada clase\n",
    "    -word_bag: matriz de términos para calcular la similitud del coseno\n",
    "    '''\n",
    "    m = np.zeros((classes,3),dtype = list)                                                     #creamos una matriz de listas\n",
    "    for i in range (len(matrix)):                 \n",
    "        for j in range (3): \n",
    "            m[i,j] = cosine_similarity(vectorized_messages[matrix[i,j],:], matrix_corpus)[0,:] #introducimos en la posición \n",
    "                                                                                          #del mensaje la lista en orden\n",
    "                                                                                          #descendente de los valores resultantes\n",
    "    return m\n",
    "    "
   ]
  },
  {
   "cell_type": "code",
   "execution_count": 13,
   "metadata": {},
   "outputs": [],
   "source": [
    "mat_cos = matriz_coseno(matrix, test_vector_data ,train_vector_data)"
   ]
  },
  {
   "cell_type": "markdown",
   "metadata": {},
   "source": [
    "## Calculo de la precisión ngramas (1,1)"
   ]
  },
  {
   "cell_type": "code",
   "execution_count": 14,
   "metadata": {},
   "outputs": [],
   "source": [
    "def recupera_X(nivel,matriz):\n",
    "    '''\n",
    "    MATRIZ, GUARDA PARA CADA MENSAJE LA LISTA DE LOS TOP X RECUPERADOS\n",
    "    -nivel: nivel de exhaustividad, indica el número de mensajes que se guardan en orden descendente de similitud\n",
    "    -matriz: matriz con valores de similitud del coseno\n",
    "    '''\n",
    "    recs = np.zeros((classes,3),dtype = list)   \n",
    "    k = []\n",
    "    for i in range(len(matriz)):                          #para cada fila(clase)\n",
    "        for j in range(len (matriz[i])):                  #para cada columna(mensaje)\n",
    "            ordenado = -np.sort(-matriz[i,j])             #ordenamos los valores\n",
    "            pos = []\n",
    "            for k in range(nivel):                      #el nº de elementos que se nos pide recuperar\n",
    "                pos.append((np.where(matriz[i,j] == ordenado[k]))[0][0])   #guardamos la posicion de dicho elemento en el array original\n",
    "            recs[i][j] = pos\n",
    "    \n",
    "    return recs"
   ]
  },
  {
   "cell_type": "code",
   "execution_count": 15,
   "metadata": {},
   "outputs": [],
   "source": [
    "recupera_3 = recupera_X(3,mat_cos)"
   ]
  },
  {
   "cell_type": "code",
   "execution_count": 24,
   "metadata": {
    "scrolled": true
   },
   "outputs": [
    {
     "data": {
      "text/plain": [
       "[3172, 7539, 6909]"
      ]
     },
     "execution_count": 24,
     "metadata": {},
     "output_type": "execute_result"
    }
   ],
   "source": [
    "recupera_3[0][0]"
   ]
  },
  {
   "cell_type": "code",
   "execution_count": 25,
   "metadata": {},
   "outputs": [
    {
     "data": {
      "text/plain": [
       "(0.4717281765248632, 0.4527543737072577, 0.4008918628686365)"
      ]
     },
     "execution_count": 25,
     "metadata": {},
     "output_type": "execute_result"
    }
   ],
   "source": [
    "(matrix_cos[0][0][0], matrix_cos[0][0][1], matrix_cos[0][0][2]) #3 valores más altos de la clase, corresponden a esos indices"
   ]
  },
  {
   "cell_type": "code",
   "execution_count": 26,
   "metadata": {},
   "outputs": [
    {
     "data": {
      "text/plain": [
       "(0, 0, 0)"
      ]
     },
     "execution_count": 26,
     "metadata": {},
     "output_type": "execute_result"
    }
   ],
   "source": [
    "(train_data.target[3172],train_data.target[7539],train_data.target[6909])"
   ]
  },
  {
   "cell_type": "markdown",
   "metadata": {},
   "source": [
    "Como podemos observar la matriz recupera3 nos proporciona los mensajes que recupera cada uno de los elegidos al comienzo. Al acceder al índice de tes_data.target con el valor de alguno de los de la lista, debe darnos el mismo que el de la fila de la matriz que estemos utilizando (recordemos que cada fila de la matriz indica una clase). En este caso el primer mensaje seleccionado para la clase 0 recupera tres mensajes de su misma clase del top 3 según la similitud del coseno.\n",
    "\n",
    "A continuación, y utilizando esta función, vamos a obtener la precisión con nivel de exhaustividad 3 y 10."
   ]
  },
  {
   "cell_type": "markdown",
   "metadata": {},
   "source": [
    "### Nivel de exhaustividad 3"
   ]
  },
  {
   "cell_type": "code",
   "execution_count": 16,
   "metadata": {},
   "outputs": [],
   "source": [
    "def precision (mat, targets):\n",
    "    '''\n",
    "    matriz con la precisión de cada mensaje con respecto a los que ha recuperado\n",
    "    -mat: matriz con índices de mensajes recuperados (tantos como el nivel de exhaustividad)\n",
    "    -targets: lista con la clase a la que pertenece cada mensaje\n",
    "    '''\n",
    "    matriz_prec = np.zeros((classes,3),dtype = list)\n",
    "    for i in range (len (mat)):                          #Para cada clase\n",
    "        for j in range (len (mat[i])):                   #Miro los 3 arrays de posiciones(recuperados por cada mensaje)\n",
    "            prec = 0\n",
    "            for k in range(len(mat[i,j])):               #Para cada posición\n",
    "                if (i == targets[mat[i][j][k]]):              #Si la clase del mensaje en target[k] es la de la fila\n",
    "                    prec = prec + 1\n",
    "            matriz_prec[i][j] = round (prec/len(mat[i,j]) , 2)          #Guardamos la precisión en porcentaje usando solo dos decimales\n",
    "        \n",
    "    return matriz_prec"
   ]
  },
  {
   "cell_type": "code",
   "execution_count": 17,
   "metadata": {},
   "outputs": [],
   "source": [
    "precision_3 = precision(recupera_3,train_data.target)"
   ]
  },
  {
   "cell_type": "code",
   "execution_count": 18,
   "metadata": {},
   "outputs": [
    {
     "data": {
      "text/plain": [
       "array([[1.0, 0.0, 0.0],\n",
       "       [0.67, 0.0, 0.0],\n",
       "       [0.67, 0.0, 0.0],\n",
       "       [1.0, 0.0, 0.67],\n",
       "       [0.0, 0.0, 0.0],\n",
       "       [0.0, 0.33, 0.67],\n",
       "       [0.67, 0.67, 1.0],\n",
       "       [0.0, 0.0, 1.0],\n",
       "       [1.0, 1.0, 0.67],\n",
       "       [1.0, 0.67, 0.67],\n",
       "       [0.0, 0.67, 1.0],\n",
       "       [1.0, 0.33, 0.33],\n",
       "       [0.0, 0.33, 1.0],\n",
       "       [1.0, 0.33, 1.0],\n",
       "       [0.67, 1.0, 0.67],\n",
       "       [1.0, 0.33, 1.0],\n",
       "       [0.33, 0.67, 0.67],\n",
       "       [0.33, 0.33, 0.0],\n",
       "       [0.33, 0.67, 0.0],\n",
       "       [0.0, 0.33, 0.67]], dtype=object)"
      ]
     },
     "execution_count": 18,
     "metadata": {},
     "output_type": "execute_result"
    }
   ],
   "source": [
    "precision_3"
   ]
  },
  {
   "cell_type": "markdown",
   "metadata": {},
   "source": [
    "### Nivel de exhaustividad 10"
   ]
  },
  {
   "cell_type": "code",
   "execution_count": 19,
   "metadata": {},
   "outputs": [],
   "source": [
    "recupera_10 = recupera_X(10,mat_cos)"
   ]
  },
  {
   "cell_type": "code",
   "execution_count": 20,
   "metadata": {},
   "outputs": [],
   "source": [
    "precision_10 = precision(recupera_10,train_data.target)"
   ]
  },
  {
   "cell_type": "code",
   "execution_count": 21,
   "metadata": {},
   "outputs": [
    {
     "data": {
      "text/plain": [
       "array([[0.7, 0.0, 0.0],\n",
       "       [0.6, 0.0, 0.0],\n",
       "       [0.8, 0.1, 0.0],\n",
       "       [1.0, 0.0, 0.3],\n",
       "       [0.1, 0.1, 0.0],\n",
       "       [0.1, 0.4, 0.4],\n",
       "       [0.5, 0.7, 0.5],\n",
       "       [0.0, 0.0, 0.9],\n",
       "       [0.9, 1.0, 0.3],\n",
       "       [1.0, 0.8, 0.6],\n",
       "       [0.1, 0.6, 0.9],\n",
       "       [0.8, 0.2, 0.1],\n",
       "       [0.1, 0.6, 0.8],\n",
       "       [1.0, 0.1, 0.5],\n",
       "       [0.6, 1.0, 0.6],\n",
       "       [1.0, 0.1, 0.4],\n",
       "       [0.1, 0.6, 0.5],\n",
       "       [0.2, 0.6, 0.0],\n",
       "       [0.3, 0.4, 0.0],\n",
       "       [0.0, 0.1, 0.4]], dtype=object)"
      ]
     },
     "execution_count": 21,
     "metadata": {},
     "output_type": "execute_result"
    }
   ],
   "source": [
    "precision_10"
   ]
  },
  {
   "cell_type": "markdown",
   "metadata": {},
   "source": [
    "Ahora que tenemos ambas matrices vamos a crear un dataframe para poder ver los resultados con más claridad. Al mismo tiempo calcularemos la media por clase para cada nivel de exhaustividad."
   ]
  },
  {
   "cell_type": "code",
   "execution_count": 33,
   "metadata": {},
   "outputs": [],
   "source": [
    "def dfMedias(matP1,matP2,classes):\n",
    "    '''\n",
    "    dataframe que, dadas dos matrices, devuelve en [i,j] la media de la fila i en la matriz j\n",
    "    -matP1: matriz con valores de precisión 1\n",
    "    -matP2: matriz con valores de precisión 2\n",
    "    -classes: lista con las clases de los mensajes para identificar las medias\n",
    "    '''\n",
    "    l1 = []\n",
    "    l2 = []\n",
    "    for i in range (len (matP1)):\n",
    "        v1 = 0\n",
    "        v2 = 0\n",
    "        for j in range (len (matP1[i])):\n",
    "            v1 += matP1[i][j]\n",
    "            v2 += matP2[i][j]\n",
    "        l1.append(v1/len (matP1[i]))\n",
    "        l2.append(v2/len (matP1[i]))\n",
    "    df = pd.DataFrame(list(zip(l1, l2)), columns =['3', '10']) \n",
    "    df['class'] = classes\n",
    "    return df"
   ]
  },
  {
   "cell_type": "code",
   "execution_count": 34,
   "metadata": {},
   "outputs": [],
   "source": [
    "dFrame = dfMedias(precision_3,precision_10,train_data.target_names)"
   ]
  },
  {
   "cell_type": "code",
   "execution_count": 35,
   "metadata": {},
   "outputs": [
    {
     "data": {
      "text/html": [
       "<div>\n",
       "<style scoped>\n",
       "    .dataframe tbody tr th:only-of-type {\n",
       "        vertical-align: middle;\n",
       "    }\n",
       "\n",
       "    .dataframe tbody tr th {\n",
       "        vertical-align: top;\n",
       "    }\n",
       "\n",
       "    .dataframe thead th {\n",
       "        text-align: right;\n",
       "    }\n",
       "</style>\n",
       "<table border=\"1\" class=\"dataframe\">\n",
       "  <thead>\n",
       "    <tr style=\"text-align: right;\">\n",
       "      <th></th>\n",
       "      <th>3</th>\n",
       "      <th>10</th>\n",
       "      <th>class</th>\n",
       "    </tr>\n",
       "  </thead>\n",
       "  <tbody>\n",
       "    <tr>\n",
       "      <td>0</td>\n",
       "      <td>0.333333</td>\n",
       "      <td>0.233333</td>\n",
       "      <td>alt.atheism</td>\n",
       "    </tr>\n",
       "    <tr>\n",
       "      <td>1</td>\n",
       "      <td>0.223333</td>\n",
       "      <td>0.200000</td>\n",
       "      <td>comp.graphics</td>\n",
       "    </tr>\n",
       "    <tr>\n",
       "      <td>2</td>\n",
       "      <td>0.223333</td>\n",
       "      <td>0.300000</td>\n",
       "      <td>comp.os.ms-windows.misc</td>\n",
       "    </tr>\n",
       "    <tr>\n",
       "      <td>3</td>\n",
       "      <td>0.556667</td>\n",
       "      <td>0.433333</td>\n",
       "      <td>comp.sys.ibm.pc.hardware</td>\n",
       "    </tr>\n",
       "    <tr>\n",
       "      <td>4</td>\n",
       "      <td>0.000000</td>\n",
       "      <td>0.066667</td>\n",
       "      <td>comp.sys.mac.hardware</td>\n",
       "    </tr>\n",
       "    <tr>\n",
       "      <td>5</td>\n",
       "      <td>0.333333</td>\n",
       "      <td>0.300000</td>\n",
       "      <td>comp.windows.x</td>\n",
       "    </tr>\n",
       "    <tr>\n",
       "      <td>6</td>\n",
       "      <td>0.780000</td>\n",
       "      <td>0.566667</td>\n",
       "      <td>misc.forsale</td>\n",
       "    </tr>\n",
       "    <tr>\n",
       "      <td>7</td>\n",
       "      <td>0.333333</td>\n",
       "      <td>0.300000</td>\n",
       "      <td>rec.autos</td>\n",
       "    </tr>\n",
       "    <tr>\n",
       "      <td>8</td>\n",
       "      <td>0.890000</td>\n",
       "      <td>0.733333</td>\n",
       "      <td>rec.motorcycles</td>\n",
       "    </tr>\n",
       "    <tr>\n",
       "      <td>9</td>\n",
       "      <td>0.780000</td>\n",
       "      <td>0.800000</td>\n",
       "      <td>rec.sport.baseball</td>\n",
       "    </tr>\n",
       "    <tr>\n",
       "      <td>10</td>\n",
       "      <td>0.556667</td>\n",
       "      <td>0.533333</td>\n",
       "      <td>rec.sport.hockey</td>\n",
       "    </tr>\n",
       "    <tr>\n",
       "      <td>11</td>\n",
       "      <td>0.553333</td>\n",
       "      <td>0.366667</td>\n",
       "      <td>sci.crypt</td>\n",
       "    </tr>\n",
       "    <tr>\n",
       "      <td>12</td>\n",
       "      <td>0.443333</td>\n",
       "      <td>0.500000</td>\n",
       "      <td>sci.electronics</td>\n",
       "    </tr>\n",
       "    <tr>\n",
       "      <td>13</td>\n",
       "      <td>0.776667</td>\n",
       "      <td>0.533333</td>\n",
       "      <td>sci.med</td>\n",
       "    </tr>\n",
       "    <tr>\n",
       "      <td>14</td>\n",
       "      <td>0.780000</td>\n",
       "      <td>0.733333</td>\n",
       "      <td>sci.space</td>\n",
       "    </tr>\n",
       "    <tr>\n",
       "      <td>15</td>\n",
       "      <td>0.776667</td>\n",
       "      <td>0.500000</td>\n",
       "      <td>soc.religion.christian</td>\n",
       "    </tr>\n",
       "    <tr>\n",
       "      <td>16</td>\n",
       "      <td>0.556667</td>\n",
       "      <td>0.400000</td>\n",
       "      <td>talk.politics.guns</td>\n",
       "    </tr>\n",
       "    <tr>\n",
       "      <td>17</td>\n",
       "      <td>0.220000</td>\n",
       "      <td>0.266667</td>\n",
       "      <td>talk.politics.mideast</td>\n",
       "    </tr>\n",
       "    <tr>\n",
       "      <td>18</td>\n",
       "      <td>0.333333</td>\n",
       "      <td>0.233333</td>\n",
       "      <td>talk.politics.misc</td>\n",
       "    </tr>\n",
       "    <tr>\n",
       "      <td>19</td>\n",
       "      <td>0.333333</td>\n",
       "      <td>0.166667</td>\n",
       "      <td>talk.religion.misc</td>\n",
       "    </tr>\n",
       "  </tbody>\n",
       "</table>\n",
       "</div>"
      ],
      "text/plain": [
       "           3        10                     class\n",
       "0   0.333333  0.233333               alt.atheism\n",
       "1   0.223333  0.200000             comp.graphics\n",
       "2   0.223333  0.300000   comp.os.ms-windows.misc\n",
       "3   0.556667  0.433333  comp.sys.ibm.pc.hardware\n",
       "4   0.000000  0.066667     comp.sys.mac.hardware\n",
       "5   0.333333  0.300000            comp.windows.x\n",
       "6   0.780000  0.566667              misc.forsale\n",
       "7   0.333333  0.300000                 rec.autos\n",
       "8   0.890000  0.733333           rec.motorcycles\n",
       "9   0.780000  0.800000        rec.sport.baseball\n",
       "10  0.556667  0.533333          rec.sport.hockey\n",
       "11  0.553333  0.366667                 sci.crypt\n",
       "12  0.443333  0.500000           sci.electronics\n",
       "13  0.776667  0.533333                   sci.med\n",
       "14  0.780000  0.733333                 sci.space\n",
       "15  0.776667  0.500000    soc.religion.christian\n",
       "16  0.556667  0.400000        talk.politics.guns\n",
       "17  0.220000  0.266667     talk.politics.mideast\n",
       "18  0.333333  0.233333        talk.politics.misc\n",
       "19  0.333333  0.166667        talk.religion.misc"
      ]
     },
     "execution_count": 35,
     "metadata": {},
     "output_type": "execute_result"
    }
   ],
   "source": [
    "dFrame"
   ]
  },
  {
   "cell_type": "code",
   "execution_count": 36,
   "metadata": {},
   "outputs": [
    {
     "data": {
      "text/html": [
       "<div>\n",
       "<style scoped>\n",
       "    .dataframe tbody tr th:only-of-type {\n",
       "        vertical-align: middle;\n",
       "    }\n",
       "\n",
       "    .dataframe tbody tr th {\n",
       "        vertical-align: top;\n",
       "    }\n",
       "\n",
       "    .dataframe thead th {\n",
       "        text-align: right;\n",
       "    }\n",
       "</style>\n",
       "<table border=\"1\" class=\"dataframe\">\n",
       "  <thead>\n",
       "    <tr style=\"text-align: right;\">\n",
       "      <th></th>\n",
       "      <th>count</th>\n",
       "      <th>mean</th>\n",
       "      <th>std</th>\n",
       "      <th>min</th>\n",
       "      <th>25%</th>\n",
       "      <th>50%</th>\n",
       "      <th>75%</th>\n",
       "      <th>max</th>\n",
       "    </tr>\n",
       "  </thead>\n",
       "  <tbody>\n",
       "    <tr>\n",
       "      <td>3</td>\n",
       "      <td>20.0</td>\n",
       "      <td>0.489167</td>\n",
       "      <td>0.248586</td>\n",
       "      <td>0.000000</td>\n",
       "      <td>0.333333</td>\n",
       "      <td>0.498333</td>\n",
       "      <td>0.776667</td>\n",
       "      <td>0.89</td>\n",
       "    </tr>\n",
       "    <tr>\n",
       "      <td>10</td>\n",
       "      <td>20.0</td>\n",
       "      <td>0.408333</td>\n",
       "      <td>0.202000</td>\n",
       "      <td>0.066667</td>\n",
       "      <td>0.258333</td>\n",
       "      <td>0.383333</td>\n",
       "      <td>0.533333</td>\n",
       "      <td>0.80</td>\n",
       "    </tr>\n",
       "  </tbody>\n",
       "</table>\n",
       "</div>"
      ],
      "text/plain": [
       "    count      mean       std       min       25%       50%       75%   max\n",
       "3    20.0  0.489167  0.248586  0.000000  0.333333  0.498333  0.776667  0.89\n",
       "10   20.0  0.408333  0.202000  0.066667  0.258333  0.383333  0.533333  0.80"
      ]
     },
     "execution_count": 36,
     "metadata": {},
     "output_type": "execute_result"
    }
   ],
   "source": [
    "dFrame.describe().transpose()"
   ]
  },
  {
   "cell_type": "markdown",
   "metadata": {},
   "source": [
    "## Conclusiones ngramas (1,1) con frecuencia"
   ]
  },
  {
   "cell_type": "markdown",
   "metadata": {},
   "source": [
    "Se puede apreciar que hay diferencia entre las medias de las clases, podemos ver más diferencias en la precisión media con exhaustividad 10 ya que el número de mensajes a recuperar es mayor. Para una misma clase vemos que, en general, decae el valor en la columna de precisión con exhaustividad 10 y es normal ya que a medida que disminuye la similitud de el mensaje es más probable que el recuperado sea de otra clase. Para aquellas clases con medias muy bajas no varía para la mayor parte el valor entre ambos niveles de exhaustividad.<br> Nuestra hipótesis es que aquellas clases que presentan más ambigüedad y ,por ende, peores valores de similitud van a tener más dificil recuperar mensajes acorde a su clase y van a mostrar un valor de media bajo en ambos casos.<br> Por otro lado aquellas clases que estén mejor definidas tendrán más probabilidad de obtener una mejor precisión media partiendo de un mensaje de su misma clase ya que tendrá mayor similitud, aunque a mayor número de mensajes comparados dicho valor decaiga ya que el vector de valores de similitud está ordenado de manera decreciente (cuantos más recuperemos más probabilidad de que los últimos pertenezcan a otra clase).<br>"
   ]
  },
  {
   "cell_type": "markdown",
   "metadata": {},
   "source": [
    "Identificamos que los peores resultados se dan en las clases comp.sys.mac.hardware y talk.religion.misc. Vamos a mostrar un mensaje ejemplo (seleccionado al principio) de dicha clase y alguno de los que ha recuperado para intentar entender estos resultados.\n",
    "\n",
    "- Para la clase comp.sys.mac.hardware si miramos en precision_3 y precision_10 vemos que el último mensaje es el que peor recupera. \n",
    "- Para la clase talk.religion.misc se da con el primer mensaje.\n",
    "\n",
    "Clase a clase mostraremos los mensajes."
   ]
  },
  {
   "cell_type": "code",
   "execution_count": 22,
   "metadata": {},
   "outputs": [],
   "source": [
    "def mostar_mal_clasificados(num_mensajes,indice_clase,indice_mensaje,mat_recuperados, targets, target_names):\n",
    "    '''\n",
    "    Imprime los mensajes recuperados para un mensaje x que no pertenecen a su misma clase\n",
    "    -num_mensajes: mensajes a imprimir\n",
    "    -indice_clase: indice en el que se encuentra la clase (fila) que estamos comprobando en la matriz\n",
    "    -indice_mensaje: indice en el que se encuentra el mensaje (columna) de la clase que comprobamos\n",
    "    -mat_recuperados: matriz con los mensajes recuperados para cada mensaje de cada clase. Debe compartir la misma \n",
    "                    disposición que los índices insertados\n",
    "    -targets: lista con la clase a la que pertenece cada mensaje\n",
    "    -target_names: lista con el nombre de cada clase, debe compartir la indexación de filas de la matriz\n",
    "    '''\n",
    "    count = 0\n",
    "    print(\"Mensajes mal recuperados:\")\n",
    "    for i in (range(len(mat_recuperados[indice_clase][indice_mensaje]))):\n",
    "        if(indice_clase != targets[mat_recuperados[indice_clase][indice_mensaje][i]]):\n",
    "            #imprimimos el mensaje con que se ha confundido\n",
    "            write_terms(feature_names, None, train_vector_data, mat_recuperados[indice_clase][indice_mensaje][i])\n",
    "            #mostramos a qué clase pertenece en realidad\n",
    "            print(\"Pertenece a la clase: \", target_names[targets[mat_recuperados[indice_clase][indice_mensaje][i]]])\n",
    "            \n",
    "            count += 1\n",
    "            if(count == num_mensajes):\n",
    "                break\n",
    "                "
   ]
  },
  {
   "cell_type": "markdown",
   "metadata": {},
   "source": [
    "### Clase comp.sys.mac.hardware"
   ]
  },
  {
   "cell_type": "code",
   "execution_count": 38,
   "metadata": {},
   "outputs": [
    {
     "name": "stdout",
     "output_type": "stream",
     "text": [
      "Mensaje 37 vectorizado: ['abiding' 'administration' 'agency' 'agree' 'agreed' 'annoyed' 'annul'\n",
      " 'appears' 'article' 'assault' 'assessment' 'automatic' 'away'\n",
      " 'burdensome' 'caliber' 'capabilities' 'cases' 'cause' 'cheap' 'citizens'\n",
      " 'classes' 'clause' 'clipper' 'college' 'complaints' 'constitutionality'\n",
      " 'continue' 'control' 'controlled' 'courts' 'cryptography' 'cryptology'\n",
      " 'days' 'dealers' 'decide' 'degradation' 'designed' 'domestic' 'doubt'\n",
      " 'drugs' 'easily' 'encryption' 'enforcement' 'enjoying' 'expressly'\n",
      " 'finger' 'fulfill' 'fulfilled' 'furthermore' 'goal' 'government'\n",
      " 'governmental' 'grossly' 'hate' 'inadequate' 'introduction' 'invoke'\n",
      " 'know' 'labeled' 'large' 'le' 'legal' 'length' 'letting' 'like' 'lines'\n",
      " 'maybe' 'mail' 'majority' 'matters' 'mention' 'mere' 'merged' 'mute'\n",
      " 'need' 'opinion' 'organization' 'overturned' 'people' 'phone' 'place'\n",
      " 'presently' 'preventing' 'privacy' 'probably' 'prohibited' 'prohibitory'\n",
      " 'promotion' 'providing' 'quite' 'real' 'really' 'regulation' 'rely'\n",
      " 'reluctant' 'remember' 'required' 'restrict' 'restriction' 'ruled' 'says'\n",
      " 'scheme' 'secrecy' 'security' 'sense' 'sort' 'stands' 'stated' 'statute'\n",
      " 'stronger' 'subject' 'substances' 'supreme' 'suspect' 'tapped' 'targets'\n",
      " 'tax' 'techniques' 'terrorists' 'textual' 'thing' 'think' 'tradeoff'\n",
      " 'true' 'unconstitutional' 'unless' 'voice' 'way' 'want' 'wants' 'weak'\n",
      " 'weapon' 'wiretap' 'wiretapping' 'writes'] \n",
      "\n"
     ]
    }
   ],
   "source": [
    "#Imprimimos el último mensaje de esta clase (fila 4, columna 2) \n",
    "print('Mensaje', matrix[4,2], 'vectorizado:', ma.array(feature_names, mask = ~((train_vector_data[matrix[4,2],:]>0)[0].toarray())).compressed(),'\\n')"
   ]
  },
  {
   "cell_type": "code",
   "execution_count": 39,
   "metadata": {
    "scrolled": false
   },
   "outputs": [
    {
     "name": "stdout",
     "output_type": "stream",
     "text": [
      "Mensajes mal recuperados:\n",
      "Mensaje 10966 vectorizado: ['address' 'distribution' 'does' 'keywords' 'lines' 'mail' 'organization'\n",
      " 'prez' 'southwestern' 'subject' 'thanks'] \n",
      "\n",
      "Pertenece a la clase:  talk.politics.misc\n",
      "Mensaje 2695 vectorizado: ['business' 'color' 'current' 'higher' 'keywords' 'lines' 'look' 'mail'\n",
      " 'organization' 'patches' 'reply' 'subject' 'thanks'] \n",
      "\n",
      "Pertenece a la clase:  comp.windows.x\n",
      "Mensaje 4696 vectorizado: ['address' 'distribution' 'does' 'lines' 'mail' 'organization' 'send'\n",
      " 'southwestern' 'subject' 'thanks'] \n",
      "\n",
      "Pertenece a la clase:  talk.politics.misc\n",
      "Mensaje 5571 vectorizado: ['distribution' 'lines' 'mo' 'organization' 'posting' 'st' 'subject'\n",
      " 'thanks'] \n",
      "\n",
      "Pertenece a la clase:  misc.forsale\n",
      "Mensaje 2331 vectorizado: ['distribution' 'does' 'group' 'know' 'lines' 'organization'\n",
      " 'southwestern' 'subject' 'thanks'] \n",
      "\n",
      "Pertenece a la clase:  sci.electronics\n"
     ]
    }
   ],
   "source": [
    "mostar_mal_clasificados(5,4,2,recupera_10,train_data.target,train_data.target_names)"
   ]
  },
  {
   "cell_type": "markdown",
   "metadata": {},
   "source": [
    "En este caso **la clase con que más se confunde es misc.forsale**. La razón de la poca precisión en la recuperación de este mensaje es la poca presencia de términos que representen su clase (si es que hay alguno que hable de hardware de MAC) frente a la cantidad de términos clave que no la identifican: article', 'assault', 'assessment', 'ruled', 'says', 'terrorists', 'textual', 'unless', 'voice' o 'way', entre otros. Es un mensaje largo, pertenece a una clase que habla de hardware y de todos sus términos no podemos rescatar ninguno _a priori_.<br>\n",
    "Respecto a los mensajes con los que se ha confundido, tienen una ambigüedad similar, aunque son más cortos. Podemos encontrar el porqué de la similitud de estos mensajes con el original en algunos términos poco relevantes para la clase que estamos tratando.\n",
    "\n",
    "Imprimimos otro mensaje de la misma clase y lo evaluamos."
   ]
  },
  {
   "cell_type": "code",
   "execution_count": 40,
   "metadata": {
    "scrolled": true
   },
   "outputs": [
    {
     "name": "stdout",
     "output_type": "stream",
     "text": [
      "Mensaje 32 vectorizado: ['accidents' 'cause' 'distribution' 'domestic' 'exploding' 'years' 'lines'\n",
      " 'organization' 'possible' 'posting' 'subject' 'televisions'\n",
      " 'understanding'] \n",
      "\n"
     ]
    }
   ],
   "source": [
    "#Imprimimos otro mensaje de esta clase (fila 4, columna 1) \n",
    "print('Mensaje', matrix[4,1], 'vectorizado:', ma.array(feature_names, mask = ~((train_vector_data[matrix[4,1],:]>0)[0].toarray())).compressed(),'\\n')"
   ]
  },
  {
   "cell_type": "markdown",
   "metadata": {},
   "source": [
    "Como en el caso anterior, a pesar de su brevedad, no se muestran palabras clave que representen la clase a la que pertenece."
   ]
  },
  {
   "cell_type": "markdown",
   "metadata": {},
   "source": [
    "### Clase talk.religion.misc"
   ]
  },
  {
   "cell_type": "code",
   "execution_count": 41,
   "metadata": {
    "scrolled": true
   },
   "outputs": [
    {
     "name": "stdout",
     "output_type": "stream",
     "text": [
      "Mensaje 63 vectorizado: ['according' 'brave' 'bumblepuppy' 'centrifugal' 'commie' 'electro' 'golf'\n",
      " 'happened' 'il' 'keywords' 'know' 'lines' 'magnetic' 'message'\n",
      " 'northwestern' 'organization' 'pinko' 'play' 'posting' 'president'\n",
      " 'subject' 'success' 'views' 'world'] \n",
      "\n"
     ]
    }
   ],
   "source": [
    "#Imprimimos el mensaje\n",
    "print('Mensaje', matrix[19,1], 'vectorizado:', ma.array(feature_names, mask = ~((test_vector_data[matrix[19,1],:]>0)[0].toarray())).compressed(),'\\n')"
   ]
  },
  {
   "cell_type": "code",
   "execution_count": 42,
   "metadata": {
    "scrolled": false
   },
   "outputs": [
    {
     "name": "stdout",
     "output_type": "stream",
     "text": [
      "Mensajes mal recuperados:\n",
      "Mensaje 11236 vectorizado: ['according' 'apply' 'article' 'bomb' 'brave' 'bumblepuppy' 'centrifugal'\n",
      " 'charge' 'charged' 'come' 'commie' 'constitution' 'cool' 'course'\n",
      " 'crimes' 'current' 'days' 'damage' 'deaths' 'doesn' 'electro' 'extensive'\n",
      " 'golf' 'hate' 'headed' 'lawyers' 'lines' 'magnetic' 'meant' 'mentioned'\n",
      " 'merit' 'multiple' 'murder' 'mutation' 'northwestern' 'organization'\n",
      " 'pinko' 'play' 'police' 'posting' 'property' 'question' 'reason' 'rescue'\n",
      " 'right' 'shade' 'single' 'study' 'subject' 'teel' 'think' 'times' 'trade'\n",
      " 'victim' 'views' 'world' 'writes'] \n",
      "\n",
      "Pertenece a la clase:  talk.politics.misc\n",
      "Mensaje 3973 vectorizado: ['distribution' 'keywords' 'lines' 'message' 'organization' 'reply'\n",
      " 'subject' 'world'] \n",
      "\n",
      "Pertenece a la clase:  rec.sport.hockey\n",
      "Mensaje 4143 vectorizado: ['bbs' 'contained' 'distribution' 'does' 'lines' 'message' 'org'\n",
      " 'organization' 'planet' 'posting' 'pricing' 'reflect' 'subject' 'value'\n",
      " 'views' 'way' 'world'] \n",
      "\n",
      "Pertenece a la clase:  comp.sys.mac.hardware\n",
      "Mensaje 2029 vectorizado: ['lines' 'node' 'organization' 'posting' 'stadium' 'subject'] \n",
      "\n",
      "Pertenece a la clase:  rec.sport.baseball\n",
      "Mensaje 2029 vectorizado: ['lines' 'node' 'organization' 'posting' 'stadium' 'subject'] \n",
      "\n",
      "Pertenece a la clase:  rec.sport.baseball\n"
     ]
    }
   ],
   "source": [
    "mostar_mal_clasificados(5,19,1,recupera_10,train_data.target, train_data.target_names)"
   ]
  },
  {
   "cell_type": "markdown",
   "metadata": {},
   "source": [
    "Con términos como 'centrifugal', 'electro', 'golf', 'magnetic' para un mensaje de una clase que trata de religión no podemos esperar, en efecto, resultados muy acertados a la hora de recuperación de textos. El resto de términos, en general, no aportan ningún identificativo especial que ayude a aumentar los valores de similitud o identifiquen de manera singular a su clase. Para este caso vemos que hay varias clases con las que se mezcla debido a la ambigüedad de la bolsa de términos del mensaje, recuperando de gran variedad de clases."
   ]
  },
  {
   "cell_type": "markdown",
   "metadata": {},
   "source": [
    "# TF/IDF"
   ]
  },
  {
   "cell_type": "code",
   "execution_count": 23,
   "metadata": {},
   "outputs": [],
   "source": [
    "#Transformamos nuestros vectores a TF/IDF\n",
    "tfidfer = TfidfTransformer()\n",
    "test_tf_idf = tfidfer.fit_transform(test_vector_data)\n",
    "train_tf_idf = tfidfer.fit_transform(train_vector_data)"
   ]
  },
  {
   "cell_type": "code",
   "execution_count": 24,
   "metadata": {},
   "outputs": [],
   "source": [
    "#Reutilizamos la función de la distancia del coseno\n",
    "matrix_cos_tf_idf = matriz_coseno(matrix, test_vector_data, train_tf_idf)"
   ]
  },
  {
   "cell_type": "code",
   "execution_count": 25,
   "metadata": {},
   "outputs": [],
   "source": [
    "#Nivel 3 de exhausistividad\n",
    "recupera3_tfidf =  recupera_X(3,matrix_cos_tf_idf)"
   ]
  },
  {
   "cell_type": "code",
   "execution_count": 66,
   "metadata": {},
   "outputs": [
    {
     "data": {
      "text/plain": [
       "array([list([7539, 3172, 6909]), list([9623, 210, 8795]),\n",
       "       list([3621, 192, 582])], dtype=object)"
      ]
     },
     "execution_count": 66,
     "metadata": {},
     "output_type": "execute_result"
    }
   ],
   "source": [
    "recupera3_tfidf[0]"
   ]
  },
  {
   "cell_type": "markdown",
   "metadata": {},
   "source": [
    "## Cálculo de la precisión"
   ]
  },
  {
   "cell_type": "code",
   "execution_count": 26,
   "metadata": {},
   "outputs": [],
   "source": [
    "precision3_tfidf = precision(recupera3_tfidf,train_data.target)"
   ]
  },
  {
   "cell_type": "code",
   "execution_count": 27,
   "metadata": {},
   "outputs": [
    {
     "data": {
      "text/plain": [
       "array([[1.0, 0.0, 0.0],\n",
       "       [0.67, 0.0, 0.0],\n",
       "       [0.67, 0.0, 0.0],\n",
       "       [1.0, 0.0, 0.33],\n",
       "       [0.0, 0.0, 0.33],\n",
       "       [0.0, 0.33, 0.33],\n",
       "       [0.67, 0.33, 1.0],\n",
       "       [0.0, 0.0, 1.0],\n",
       "       [1.0, 1.0, 0.33],\n",
       "       [1.0, 0.67, 0.67],\n",
       "       [0.67, 1.0, 1.0],\n",
       "       [1.0, 0.33, 0.33],\n",
       "       [0.0, 0.0, 1.0],\n",
       "       [1.0, 0.33, 1.0],\n",
       "       [0.33, 1.0, 0.67],\n",
       "       [1.0, 0.33, 1.0],\n",
       "       [0.33, 0.67, 0.67],\n",
       "       [0.33, 1.0, 0.33],\n",
       "       [0.33, 0.67, 0.0],\n",
       "       [0.0, 0.0, 0.67]], dtype=object)"
      ]
     },
     "execution_count": 27,
     "metadata": {},
     "output_type": "execute_result"
    }
   ],
   "source": [
    "precision3_tfidf"
   ]
  },
  {
   "cell_type": "code",
   "execution_count": 28,
   "metadata": {},
   "outputs": [],
   "source": [
    "#Nivel 10 de exhaustividad\n",
    "recupera10_tfidf =  recupera_X(10,matrix_cos_tf_idf)"
   ]
  },
  {
   "cell_type": "code",
   "execution_count": 29,
   "metadata": {},
   "outputs": [],
   "source": [
    "precision10_tfidf = precision(recupera10_tfidf,train_data.target)"
   ]
  },
  {
   "cell_type": "code",
   "execution_count": 30,
   "metadata": {
    "scrolled": true
   },
   "outputs": [
    {
     "data": {
      "text/plain": [
       "array([[0.7, 0.0, 0.0],\n",
       "       [0.6, 0.2, 0.0],\n",
       "       [0.7, 0.1, 0.0],\n",
       "       [1.0, 0.3, 0.3],\n",
       "       [0.1, 0.0, 0.2],\n",
       "       [0.0, 0.7, 0.5],\n",
       "       [0.4, 0.5, 0.5],\n",
       "       [0.0, 0.2, 0.9],\n",
       "       [1.0, 0.9, 0.2],\n",
       "       [1.0, 0.7, 0.9],\n",
       "       [0.7, 0.8, 1.0],\n",
       "       [0.9, 0.1, 0.1],\n",
       "       [0.2, 0.6, 0.8],\n",
       "       [1.0, 0.1, 0.7],\n",
       "       [0.5, 1.0, 0.9],\n",
       "       [1.0, 0.1, 0.6],\n",
       "       [0.1, 0.6, 0.4],\n",
       "       [0.3, 0.7, 0.1],\n",
       "       [0.5, 0.5, 0.2],\n",
       "       [0.0, 0.3, 0.4]], dtype=object)"
      ]
     },
     "execution_count": 30,
     "metadata": {},
     "output_type": "execute_result"
    }
   ],
   "source": [
    "precision10_tfidf"
   ]
  },
  {
   "cell_type": "code",
   "execution_count": 51,
   "metadata": {},
   "outputs": [],
   "source": [
    "dFrame_tfidf = dfMedias(precision3_tfidf,precision10_tfidf,train_data.target_names)"
   ]
  },
  {
   "cell_type": "code",
   "execution_count": 52,
   "metadata": {
    "scrolled": false
   },
   "outputs": [
    {
     "data": {
      "text/html": [
       "<div>\n",
       "<style scoped>\n",
       "    .dataframe tbody tr th:only-of-type {\n",
       "        vertical-align: middle;\n",
       "    }\n",
       "\n",
       "    .dataframe tbody tr th {\n",
       "        vertical-align: top;\n",
       "    }\n",
       "\n",
       "    .dataframe thead th {\n",
       "        text-align: right;\n",
       "    }\n",
       "</style>\n",
       "<table border=\"1\" class=\"dataframe\">\n",
       "  <thead>\n",
       "    <tr style=\"text-align: right;\">\n",
       "      <th></th>\n",
       "      <th>3</th>\n",
       "      <th>10</th>\n",
       "      <th>class</th>\n",
       "    </tr>\n",
       "  </thead>\n",
       "  <tbody>\n",
       "    <tr>\n",
       "      <td>0</td>\n",
       "      <td>0.333333</td>\n",
       "      <td>0.233333</td>\n",
       "      <td>alt.atheism</td>\n",
       "    </tr>\n",
       "    <tr>\n",
       "      <td>1</td>\n",
       "      <td>0.223333</td>\n",
       "      <td>0.266667</td>\n",
       "      <td>comp.graphics</td>\n",
       "    </tr>\n",
       "    <tr>\n",
       "      <td>2</td>\n",
       "      <td>0.223333</td>\n",
       "      <td>0.266667</td>\n",
       "      <td>comp.os.ms-windows.misc</td>\n",
       "    </tr>\n",
       "    <tr>\n",
       "      <td>3</td>\n",
       "      <td>0.443333</td>\n",
       "      <td>0.533333</td>\n",
       "      <td>comp.sys.ibm.pc.hardware</td>\n",
       "    </tr>\n",
       "    <tr>\n",
       "      <td>4</td>\n",
       "      <td>0.110000</td>\n",
       "      <td>0.100000</td>\n",
       "      <td>comp.sys.mac.hardware</td>\n",
       "    </tr>\n",
       "    <tr>\n",
       "      <td>5</td>\n",
       "      <td>0.220000</td>\n",
       "      <td>0.400000</td>\n",
       "      <td>comp.windows.x</td>\n",
       "    </tr>\n",
       "    <tr>\n",
       "      <td>6</td>\n",
       "      <td>0.666667</td>\n",
       "      <td>0.466667</td>\n",
       "      <td>misc.forsale</td>\n",
       "    </tr>\n",
       "    <tr>\n",
       "      <td>7</td>\n",
       "      <td>0.333333</td>\n",
       "      <td>0.366667</td>\n",
       "      <td>rec.autos</td>\n",
       "    </tr>\n",
       "    <tr>\n",
       "      <td>8</td>\n",
       "      <td>0.776667</td>\n",
       "      <td>0.700000</td>\n",
       "      <td>rec.motorcycles</td>\n",
       "    </tr>\n",
       "    <tr>\n",
       "      <td>9</td>\n",
       "      <td>0.780000</td>\n",
       "      <td>0.866667</td>\n",
       "      <td>rec.sport.baseball</td>\n",
       "    </tr>\n",
       "    <tr>\n",
       "      <td>10</td>\n",
       "      <td>0.890000</td>\n",
       "      <td>0.833333</td>\n",
       "      <td>rec.sport.hockey</td>\n",
       "    </tr>\n",
       "    <tr>\n",
       "      <td>11</td>\n",
       "      <td>0.553333</td>\n",
       "      <td>0.366667</td>\n",
       "      <td>sci.crypt</td>\n",
       "    </tr>\n",
       "    <tr>\n",
       "      <td>12</td>\n",
       "      <td>0.333333</td>\n",
       "      <td>0.533333</td>\n",
       "      <td>sci.electronics</td>\n",
       "    </tr>\n",
       "    <tr>\n",
       "      <td>13</td>\n",
       "      <td>0.776667</td>\n",
       "      <td>0.600000</td>\n",
       "      <td>sci.med</td>\n",
       "    </tr>\n",
       "    <tr>\n",
       "      <td>14</td>\n",
       "      <td>0.666667</td>\n",
       "      <td>0.800000</td>\n",
       "      <td>sci.space</td>\n",
       "    </tr>\n",
       "    <tr>\n",
       "      <td>15</td>\n",
       "      <td>0.776667</td>\n",
       "      <td>0.566667</td>\n",
       "      <td>soc.religion.christian</td>\n",
       "    </tr>\n",
       "    <tr>\n",
       "      <td>16</td>\n",
       "      <td>0.556667</td>\n",
       "      <td>0.366667</td>\n",
       "      <td>talk.politics.guns</td>\n",
       "    </tr>\n",
       "    <tr>\n",
       "      <td>17</td>\n",
       "      <td>0.553333</td>\n",
       "      <td>0.366667</td>\n",
       "      <td>talk.politics.mideast</td>\n",
       "    </tr>\n",
       "    <tr>\n",
       "      <td>18</td>\n",
       "      <td>0.333333</td>\n",
       "      <td>0.400000</td>\n",
       "      <td>talk.politics.misc</td>\n",
       "    </tr>\n",
       "    <tr>\n",
       "      <td>19</td>\n",
       "      <td>0.223333</td>\n",
       "      <td>0.233333</td>\n",
       "      <td>talk.religion.misc</td>\n",
       "    </tr>\n",
       "  </tbody>\n",
       "</table>\n",
       "</div>"
      ],
      "text/plain": [
       "           3        10                     class\n",
       "0   0.333333  0.233333               alt.atheism\n",
       "1   0.223333  0.266667             comp.graphics\n",
       "2   0.223333  0.266667   comp.os.ms-windows.misc\n",
       "3   0.443333  0.533333  comp.sys.ibm.pc.hardware\n",
       "4   0.110000  0.100000     comp.sys.mac.hardware\n",
       "5   0.220000  0.400000            comp.windows.x\n",
       "6   0.666667  0.466667              misc.forsale\n",
       "7   0.333333  0.366667                 rec.autos\n",
       "8   0.776667  0.700000           rec.motorcycles\n",
       "9   0.780000  0.866667        rec.sport.baseball\n",
       "10  0.890000  0.833333          rec.sport.hockey\n",
       "11  0.553333  0.366667                 sci.crypt\n",
       "12  0.333333  0.533333           sci.electronics\n",
       "13  0.776667  0.600000                   sci.med\n",
       "14  0.666667  0.800000                 sci.space\n",
       "15  0.776667  0.566667    soc.religion.christian\n",
       "16  0.556667  0.366667        talk.politics.guns\n",
       "17  0.553333  0.366667     talk.politics.mideast\n",
       "18  0.333333  0.400000        talk.politics.misc\n",
       "19  0.223333  0.233333        talk.religion.misc"
      ]
     },
     "execution_count": 52,
     "metadata": {},
     "output_type": "execute_result"
    }
   ],
   "source": [
    "dFrame_tfidf"
   ]
  },
  {
   "cell_type": "markdown",
   "metadata": {},
   "source": [
    "## Conclusiones "
   ]
  },
  {
   "cell_type": "markdown",
   "metadata": {},
   "source": [
    "La clase **rec.sport.hockey** ha incrementado bastante más ya que antes contaba con unos valores de 0.55(para 3 mensajes recuperados) y 0.53 (para 10 mensajes recuperados) mientras que ahora cuenta con 0.89 y 0.83 lo cual es una mejora bastante importate ya que quiere decir que está clasificando mal solo 3 mensajes de 10 que recupera. \n",
    "Por otro lado están las clases que decrementan, podemos destacar como cambio notable la clase **rec.motorcycles** a la hora de recuperar 3 mensajes antes tenía un valor de 0.89 y ahora de 0.77 aunque no se nota tanto esta bajada a la hora de recuperar 10 mensajes ya que anteriormente el valor de precisión media que obteniamos para este nivel de exhaustividad era de 0.73 y ahora obtenemos 0.70. <br> Consideramos que con el uso de TF/IDF se han mejorado los resultados de precisión media ya que incrementan los valores más que decrementar.\n",
    "\n",
    "Mostramos los valores de las medias según el nivel de exhaustividad y el tipo de bolsa de palabras."
   ]
  },
  {
   "cell_type": "code",
   "execution_count": 143,
   "metadata": {},
   "outputs": [
    {
     "data": {
      "text/plain": [
       "<matplotlib.legend.Legend at 0x26834fd2b48>"
      ]
     },
     "execution_count": 143,
     "metadata": {},
     "output_type": "execute_result"
    },
    {
     "data": {
      "image/png": "[encoded data removed]",
      "text/plain": [
       "<Figure size 1872x720 with 1 Axes>"
      ]
     },
     "metadata": {
      "needs_background": "light"
     },
     "output_type": "display_data"
    }
   ],
   "source": [
    "values = dFrame['class']\n",
    "plt.figure(figsize=(26, 10))\n",
    "plt.plot(values, dFrame['3'])\n",
    "plt.plot(values, dFrame['10'])\n",
    "plt.plot(values, dFrame_tfidf['3'])\n",
    "plt.plot(values, dFrame_tfidf['10'])\n",
    "plt.legend(['Exh_lvl_3', 'Exh_lvl_10','Exh_lvl_3_TF/IDF', 'Exh_lvl_10_TF/IDF'], loc='lower left', fontsize = 15)"
   ]
  },
  {
   "cell_type": "markdown",
   "metadata": {},
   "source": [
    "A continnuación vamos a mostrar una consulta en la que la ponderación TF/IDF ha sido efectiva y ha ayudado a mejorar la recuperación. De la clase **rec.sport.hockey** ya mencionada, para el nivel de exhaustividad 10, el primer mensaje tiene una precisión de 0.1 con la ponderación de frecuencias mientras que con TF/IDF sube hasta 0.7."
   ]
  },
  {
   "cell_type": "code",
   "execution_count": 39,
   "metadata": {},
   "outputs": [],
   "source": [
    "def mostar_bien_clasificados(num_mensajes,indice_clase,indice_mensaje,mat_recuperados, targets, target_names):\n",
    "    '''\n",
    "    Imprime los mensajes recuperados para un mensaje x que no pertenecen a su misma clase\n",
    "    -num_mensajes: mensajes a imprimir\n",
    "    -indice_clase: indice en el que se encuentra la clase (fila) que estamos comprobando en la matriz\n",
    "    -indice_mensaje: indice en el que se encuentra el mensaje (columna) de la clase que comprobamos\n",
    "    -mat_recuperados: matriz con los mensajes recuperados para cada mensaje de cada clase. Debe compartir la misma \n",
    "                    disposición que los índices insertados\n",
    "    -targets: lista con la clase a la que pertenece cada mensaje\n",
    "    -target_names: lista con el nombre de cada clase, debe compartir la indexación de filas de la matriz\n",
    "    '''\n",
    "    count = 0\n",
    "    print(\"Mensajes recuperados correctamente:\")\n",
    "    for i in (range(len(mat_recuperados[indice_clase][indice_mensaje]))):\n",
    "        if(indice_clase == targets[mat_recuperados[indice_clase][indice_mensaje][i]]):\n",
    "            #imprimimos el mensaje con que se ha confundido\n",
    "            write_terms(feature_names, None, train_vector_data, mat_recuperados[indice_clase][indice_mensaje][i])\n",
    "            #mostramos a qué clase pertenece en realidad\n",
    "            print(\"Pertenece a la clase: \", target_names[targets[mat_recuperados[indice_clase][indice_mensaje][i]]])\n",
    "            \n",
    "            count += 1\n",
    "            if(count == num_mensajes):\n",
    "                break\n",
    "                "
   ]
  },
  {
   "cell_type": "code",
   "execution_count": 31,
   "metadata": {},
   "outputs": [
    {
     "name": "stdout",
     "output_type": "stream",
     "text": [
      "Mensaje 56 vectorizado: ['4th' 'approaching' 'article' 'assumptions' 'automatic' 'based' 'better'\n",
      " 'big' 'briefly' 'charge' 'charging' 'clearer' 'combinations'\n",
      " 'conceivable' 'controlled' 'corners' 'cruising' 'curve' 'delayed'\n",
      " 'deliver' 'depressed' 'distraction' 'does' 'downshift' 'downshifts'\n",
      " 'drive' 'driver' 'dumb' 'easily' 'economical' 'electronics' 'engr'\n",
      " 'entail' 'equal' 'excellent' 'explanation' 'figure' 'gear' 'got' 'half'\n",
      " 'highway' 'improvements' 'inattentive' 'instantaneous' 'keywords' 'know'\n",
      " 'legacy' 'lift' 'like' 'limiter' 'lines' 'makes' 'manual' 'manuals'\n",
      " 'measure' 'mileage' 'obvious' 'open' 'opening' 'organization' 'pedal'\n",
      " 'people' 'position' 'possible' 'posting' 'previous' 'proper' 'proved'\n",
      " 'quite' 'ratio' 'readout' 'really' 'red' 'remain' 'remember' 'revs'\n",
      " 'revving' 'ridden' 'right' 'scenario' 'senses' 'sets' 'sight' 'simple'\n",
      " 'sits' 'situation' 'speed' 'sport' 'stick' 'stored' 'subject' 'sure'\n",
      " 'suspect' 'switch' 'switches' 'things' 'think' 'throttle' 'times'\n",
      " 'transmissions' 'turn' 'upshifts' 'way' 'want' 'wide' 'wonderful' 'wrong'] \n",
      "\n"
     ]
    }
   ],
   "source": [
    "print('Mensaje', matrix[10,0], 'vectorizado:', ma.array(feature_names, mask = ~((train_vector_data[matrix[10,0],:]>0)[0].toarray())).compressed(),'\\n')"
   ]
  },
  {
   "cell_type": "markdown",
   "metadata": {},
   "source": [
    "El vector del mensaje no parece muy concreto o identificativo de su clase ya que cuenta con keywords que refieren facilmente a otras clases como: 'electronics', 'economical', 'transmissions'. Y otros términos que aportan ambigüedad como 'way', 'want', 'like'. Aún así si pertenece a dicha clase es porque contiene términos relacionados con la misma como 'sport', 'stick'o 'half'.\n",
    "\n",
    "Esta descripción nos ayuda a entender los malos resultados con la anterior bolsa de palabras y, sin embargo, con la ponderación TF/IDF su precisión se ha visto mejorada. Queremos saber el estilo de los mensajes que ha recuperado correctamente y los que ha recuperado erroneamente para poder ver cómo ha afectado esta ponderación y qué términos son realmente identificativos y han permitido la mejora en los resultados de precisión."
   ]
  },
  {
   "cell_type": "code",
   "execution_count": 40,
   "metadata": {},
   "outputs": [
    {
     "name": "stdout",
     "output_type": "stream",
     "text": [
      "Mensajes recuperados correctamente:\n",
      "Mensaje 3664 vectorizado: ['absolutely' 'al' 'artist' 'astonished' 'attempts' 'bad' 'banjo' 'bench'\n",
      " 'capital' 'caps' 'centers' 'cheap' 'comes' 'competition' 'continue'\n",
      " 'couldn' 'crap' 'crowd' 'defensive' 'difficult' 'district' 'ends'\n",
      " 'figure' 'forwards' 'game' 'games' 'getting' 'goal' 'goals' 'got'\n",
      " 'gotten' 'hit' 'ice' 'year' 'years' 'inconsistent' 'instead' 'isles'\n",
      " 'justification' 'later' 'letting' 'level' 'lines' 'maybe' 'make' 'makes'\n",
      " 'meet' 'minds' 'need' 'neutral' 'opposing' 'opposition' 'organization'\n",
      " 'penalty' 'penalties' 'period' 'pilon' 'play' 'playoffs' 'police' 'pour'\n",
      " 'probably' 'remember' 'rest' 'resulting' 'right' 'round' 'sail' 'scored'\n",
      " 'senseless' 'settling' 'ship' 'shot' 'skater' 'skates' 'software'\n",
      " 'somebody' 'space' 'stay' 'stupid' 'subject' 'takes' 'talent' 'team'\n",
      " 'teams' 'think' 'tight' 'tilts' 'tonite' 'turnover' 'understand' 'wish'\n",
      " 'world' 'worse' 'worst' 'zone'] \n",
      "\n",
      "Pertenece a la clase:  rec.sport.hockey\n",
      "Mensaje 3162 vectorizado: ['institute' 'islanders' 'isles' 'lines' 'need' 'organization'\n",
      " 'polytechnic' 'posting' 'reply' 'subject'] \n",
      "\n",
      "Pertenece a la clase:  rec.sport.hockey\n",
      "Mensaje 679 vectorizado: ['advance' 'article' 'beat' 'distribution' 'ee' 'excited' 'islanders'\n",
      " 'isles' 'keeping' 'lines' 'mail' 'organization' 'overtime' 'rangers'\n",
      " 'request' 'subject' 'thanks' 'writes'] \n",
      "\n",
      "Pertenece a la clase:  rec.sport.hockey\n",
      "Mensaje 9319 vectorizado: ['article' 'asked' 'beat' 'capitals' 'caps' 'chances' 'come' 'concern'\n",
      " 'course' 'cup' 'dead' 'game' 'hardest' 'horse' 'year' 'impression'\n",
      " 'interject' 'islanders' 'jets' 'like' 'lines' 'matters' 'microsystems'\n",
      " 'number' 'opinions' 'organization' 'penguin' 'penguins' 'pens' 'playoffs'\n",
      " 'plans' 'posting' 'reply' 'stop' 'subject' 'sure' 'task' 'team' 'think'\n",
      " 'throw' 'winning' 'writes'] \n",
      "\n",
      "Pertenece a la clase:  rec.sport.hockey\n",
      "Mensaje 10120 vectorizado: ['1st' '2nd' '3rd' 'admit' 'afraid' 'agree' 'anytime' 'approaching' 'away'\n",
      " 'beat' 'beaten' 'called' 'caps' 'cause' 'checks' 'chest' 'come'\n",
      " 'comments' 'correctly' 'crap' 'debut' 'defenseman' 'deserve' 'devils'\n",
      " 'does' 'doesn' 'enforcers' 'enjoy' 'ethics' 'fight' 'fights' 'foremost'\n",
      " 'game' 'games' 'general' 'gets' 'goal' 'goalie' 'got' 'hard' 'hockey'\n",
      " 'holding' 'honest' 'ice' 'infinity' 'interesting' 'islanders' 'isles'\n",
      " 'know' 'lackluster' 'late' 'lenient' 'like' 'lines' 'looked' 'losing'\n",
      " 'lost' 'mean' 'meet' 'mentioned' 'minus' 'misplayed' 'need' 'needless'\n",
      " 'negative' 'night' 'noticed' 'open' 'opinion' 'ot' 'penalties' 'pens'\n",
      " 'performances' 'period' 'physical' 'pilon' 'place' 'play' 'played'\n",
      " 'playoffs' 'planet' 'plus' 'pretty' 'prevent' 'prowess' 'pull'\n",
      " 'ramblings' 'really' 'referee' 'referees' 'run' 'score' 'scoring'\n",
      " 'seeing' 'shame' 'shoot' 'shot' 'sick' 'slap' 'slow' 'soon' 'start'\n",
      " 'starts' 'stolen' 'strategy' 'subject' 'suck' 'takes' 'talent' 'team'\n",
      " 'teams' 'think' 'tie' 'tied' 'tons' 'trying' 'trouble' 'violation'\n",
      " 'whalers' 'wide' 'words'] \n",
      "\n",
      "Pertenece a la clase:  rec.sport.hockey\n",
      "Mensaje 10332 vectorizado: ['article' 'coming' 'crap' 'cup' 'deeper' 'easily' 'forget' 'game' 'games'\n",
      " 'having' 'hockey' 'known' 'let' 'like' 'likes' 'lines' 'lineup' 'massive'\n",
      " 'need' 'opinions' 'org' 'organization' 'play' 'played' 'playing'\n",
      " 'playoffs' 'posting' 'problem' 'problems' 'research' 'right' 'run' 'said'\n",
      " 'simple' 'syndrome' 'squat' 'stay' 'station' 'steal' 'subject' 'talking'\n",
      " 'team' 'teamwork' 'trying' 'unfortunately' 'watch' 'weather' 'writes'\n",
      " 'wrote'] \n",
      "\n",
      "Pertenece a la clase:  rec.sport.hockey\n",
      "Mensaje 3919 vectorizado: ['beat' 'believes' 'caps' 'flyers' 'game' 'kidding' 'lines' 'loose'\n",
      " 'organization' 'pens' 'playoffs' 'posting' 'real' 'really' 'reply'\n",
      " 'staff' 'subject'] \n",
      "\n",
      "Pertenece a la clase:  rec.sport.hockey\n"
     ]
    }
   ],
   "source": [
    "mostar_bien_clasificados(7,10,0,recupera10_tfidf,train_data.target,train_data.target_names)"
   ]
  },
  {
   "cell_type": "markdown",
   "metadata": {},
   "source": [
    "Palabras clave como 'organization' o 'lines'(refiere a la defensa: In ice hockey, a line is a group of forwards that play in a group, or \"shift\", during a game) aparecen en gran parte de los mensajes y dan una razón a la similitud, **sin embargo otras, como 'got', 'posting' o 'article' tienen menos presencia pero ayudan a la identificación también de mensajes de esta clase**.<br>Aquí es donde podemos observar la efectividad de la ponderación TF/IDF ya que estos términos que son relativamente frecuentes en esta clase, es muy probable que no lo sean en el corpus en general. Así tienen una mayor ponderación y su presencia en el documento permite su asociación entre textos semejantes ya que los valores del cálculo de la similitud del coseno se ven favorecidos por la presencia de éstos términos.\n",
    "\n",
    "Como mostramos a continuación, la ponderación anterior perjudicó a la hora de la recuperación debido a que, por ejemplo, 'organization' o 'lines' resultan ser términos con bastante frecuencia, no solo en la clase anterior, si no en el corpus (al parecer en la clase religión) y su presencia le daba un mayor valor a la similitud, y otros términos que podrían resultar clave ponderaban con menos valor por ser frecuentes solo en esta clase."
   ]
  },
  {
   "cell_type": "code",
   "execution_count": 42,
   "metadata": {},
   "outputs": [
    {
     "name": "stdout",
     "output_type": "stream",
     "text": [
      "Mensajes mal recuperados:\n",
      "Mensaje 721 vectorizado: ['blessed' 'hear' 'yea' 'lines' 'organization' 'posting' 'promise' 'said'\n",
      " 'software' 'subject'] \n",
      "\n",
      "Pertenece a la clase:  talk.religion.misc\n",
      "Mensaje 721 vectorizado: ['blessed' 'hear' 'yea' 'lines' 'organization' 'posting' 'promise' 'said'\n",
      " 'software' 'subject'] \n",
      "\n",
      "Pertenece a la clase:  talk.religion.misc\n",
      "Mensaje 9771 vectorizado: ['ago' 'allow' 'dept' 'emulator' 'group' 'helps' 'info' 'lines'\n",
      " 'organization' 'posting' 'said' 'stat' 'subject'] \n",
      "\n",
      "Pertenece a la clase:  comp.os.ms-windows.misc\n",
      "Mensaje 6510 vectorizado: ['ad' 'communications' 'generic' 'guess' 'lines' 'makes' 'organization'\n",
      " 'posting' 'reply' 'research' 'said' 'seller' 'subject'] \n",
      "\n",
      "Pertenece a la clase:  rec.autos\n",
      "Mensaje 8935 vectorizado: ['backing' 'broadcast' 'cites' 'clearly' 'didn' 'enclosed' 'know' 'liar'\n",
      " 'lines' 'local' 'message' 'newsreader' 'organization' 'said' 'stations'\n",
      " 'subject' 'surrender' 'tin' 'writes'] \n",
      "\n",
      "Pertenece a la clase:  talk.religion.misc\n"
     ]
    }
   ],
   "source": [
    "mostar_mal_clasificados(5,10,0,recupera_10,train_data.target,train_data.target_names)"
   ]
  }
 ],
 "metadata": {
  "kernelspec": {
   "display_name": "Python 3",
   "language": "python",
   "name": "python3"
  },
  "language_info": {
   "codemirror_mode": {
    "name": "ipython",
    "version": 3
   },
   "file_extension": ".py",
   "mimetype": "text/x-python",
   "name": "python",
   "nbconvert_exporter": "python",
   "pygments_lexer": "ipython3",
   "version": "3.7.4"
  }
 },
 "nbformat": 4,
 "nbformat_minor": 2
}
